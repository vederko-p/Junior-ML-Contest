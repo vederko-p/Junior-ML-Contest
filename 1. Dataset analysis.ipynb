{
 "cells": [
  {
   "cell_type": "markdown",
   "id": "0c375d34",
   "metadata": {},
   "source": [
    "## 1. Анализ исходной выборки"
   ]
  },
  {
   "cell_type": "code",
   "execution_count": 1,
   "id": "57fbf691",
   "metadata": {},
   "outputs": [],
   "source": [
    "import os\n",
    "from tqdm.notebook import tqdm\n",
    "import matplotlib.pyplot as plt"
   ]
  },
  {
   "cell_type": "code",
   "execution_count": 4,
   "id": "b197ba91",
   "metadata": {},
   "outputs": [],
   "source": [
    "# в dataset/utils:\n",
    "def get_index(folder_name):\n",
    "    splited_name = folder_name.split(' ')\n",
    "    mark, model = splited_name[0], splited_name[1]\n",
    "    rakurs = 'back' if 'back' in folder_name else 'normal'\n",
    "    truck = 'truck' if 'truck' in folder_name else 'no_truck'\n",
    "    index = (mark, model, rakurs, truck)\n",
    "    \n",
    "# в dataset/utils:\n",
    "def get_indexes(folders: list):\n",
    "    indexes = [get_index(fold_n) for fold_n in folders]\n",
    "    return indexes"
   ]
  },
  {
   "cell_type": "code",
   "execution_count": 3,
   "id": "b0ea29b8",
   "metadata": {},
   "outputs": [],
   "source": []
  },
  {
   "cell_type": "code",
   "execution_count": null,
   "id": "aa680002",
   "metadata": {},
   "outputs": [],
   "source": []
  }
 ],
 "metadata": {
  "kernelspec": {
   "display_name": "Python 3 (ipykernel)",
   "language": "python",
   "name": "python3"
  },
  "language_info": {
   "codemirror_mode": {
    "name": "ipython",
    "version": 3
   },
   "file_extension": ".py",
   "mimetype": "text/x-python",
   "name": "python",
   "nbconvert_exporter": "python",
   "pygments_lexer": "ipython3",
   "version": "3.9.7"
  }
 },
 "nbformat": 4,
 "nbformat_minor": 5
}
