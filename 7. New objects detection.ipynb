{
 "cells": [
  {
   "cell_type": "markdown",
   "id": "12f7f36b",
   "metadata": {},
   "source": [
    "## Содержание"
   ]
  },
  {
   "cell_type": "markdown",
   "id": "8ebb4875",
   "metadata": {},
   "source": [
    "[Библиотеки](#libraries)\n",
    "\n",
    "[1. Данные](#data)\n",
    "\n",
    "[2. Оценка расстояний](#distance_estimation)\n",
    "* [Инициализация Triplet Loss моделей](#tl_models_init)\n",
    "* [Классификаторы ракурса и грузовиков](#additional_classifiers)\n",
    "* [База признаковых описаний](#feature_base)\n",
    "* [Метрические классификаторы](#metric_classifiers)\n",
    "* [Тесты](#tests)\n",
    "* [Выводы](#conclusion)"
   ]
  },
  {
   "cell_type": "markdown",
   "id": "59d48eda",
   "metadata": {},
   "source": [
    "<a id='libraries'></a>\n",
    "## Библиотеки"
   ]
  },
  {
   "cell_type": "code",
   "execution_count": 50,
   "id": "65102445",
   "metadata": {},
   "outputs": [],
   "source": [
    "import os\n",
    "\n",
    "import numpy as np\n",
    "import matplotlib.pyplot as plt\n",
    "import seaborn as sns\n",
    "\n",
    "from dataset import indexing\n",
    "from dataset.complement_dataset import complement_dataset\n",
    "\n",
    "from tools.feature_base import FeaturesBase\n",
    "from model_test.metric_model_test import test_distance\n",
    "\n",
    "from models.triplet_loss import TripletLossModel\n",
    "from models.triplet_loss import ClassificationForTLModel\n",
    "from models.triplet_loss_old import TripletLossModelOld\n",
    "from models.triplet_loss_old import conv_simple_features_00\n",
    "from models.triplet_loss_old import fully_connect_modul_265\n",
    "import models.metric_tl_classifier as metr_tl_cl"
   ]
  },
  {
   "cell_type": "markdown",
   "id": "3ef315f8",
   "metadata": {},
   "source": [
    "<a id='data'></a>\n",
    "## 1. Данные"
   ]
  },
  {
   "cell_type": "markdown",
   "id": "90c540dd",
   "metadata": {},
   "source": [
    "Так как система распознавания работает на основе метрических классификаторов, то с помощью оценки расстояний при распознавании объекта можно оценить, насколько далеко он находится от искомого кластера. Если новый объект в латентном пространстве находится слишком далеко от ближайшего кластера, значит он может быть новым объектом.\n",
    "\n",
    "Для оценки возможности определения новых объектов в системе на основе расстояний необходимо к тестовой выборке добавить примерно такое же количество изображений, которых не было в тренровочной выборке. На результирующей выборке необходимо изучить значения расстояний для каждого набора изображений."
   ]
  },
  {
   "cell_type": "code",
   "execution_count": 2,
   "id": "adbc2c1e",
   "metadata": {},
   "outputs": [],
   "source": [
    "datasets_path = 'G:\\\\diplom\\\\project\\\\triplet_loss_project_2_06.04\\\\data'\n",
    "init_ds_path = os.path.join(datasets_path, '015_model_marka_year_train')\n",
    "train_ds_path = os.path.join(datasets_path, 'sampled_train_marks_models')\n",
    "test_ds_path = os.path.join(datasets_path, 'sampled_test')"
   ]
  },
  {
   "cell_type": "code",
   "execution_count": 3,
   "id": "76620150",
   "metadata": {},
   "outputs": [],
   "source": [
    "init_folders = os.listdir(init_ds_path)\n",
    "init_indexes = indexing.get_indexes(init_folders)\n",
    "\n",
    "train_folders = os.listdir(test_ds_path)\n",
    "train_indexes = indexing.get_indexes(train_folders)\n",
    "\n",
    "test_folders = os.listdir(test_ds_path)\n",
    "test_indexes = indexing.get_indexes(test_folders)"
   ]
  },
  {
   "cell_type": "code",
   "execution_count": 23,
   "id": "fa8341ba",
   "metadata": {},
   "outputs": [
    {
     "name": "stdout",
     "output_type": "stream",
     "text": [
      "Количество изображений в тестовой выборке: 5335\n"
     ]
    }
   ],
   "source": [
    "test_images = []\n",
    "test_imgs_amount = 0\n",
    "for fold in test_folders:\n",
    "    imgs_path = os.path.join(test_ds_path, fold)\n",
    "    imgs_loc_paths = os.listdir(imgs_path)\n",
    "    imgs_glob_paths = [os.path.join(imgs_path, ip) for ip in imgs_loc_paths]\n",
    "    test_images.extend(imgs_glob_paths)\n",
    "    test_imgs_amount += len(imgs_glob_paths)\n",
    "    \n",
    "print(f'Количество изображений в тестовой выборке: {test_imgs_amount}')"
   ]
  },
  {
   "cell_type": "code",
   "execution_count": 5,
   "id": "f1fba148",
   "metadata": {},
   "outputs": [
    {
     "name": "stdout",
     "output_type": "stream",
     "text": [
      "Количество не использованных в обучении марок: 122\n"
     ]
    }
   ],
   "source": [
    "train_marks = set(map(lambda x: x[0], train_indexes))\n",
    "init_marks = set(map(lambda x: x[0], init_indexes))\n",
    "new_marks = init_marks - train_marks\n",
    "print(f'Количество не использованных в обучении марок: {len(new_marks)}')"
   ]
  },
  {
   "cell_type": "code",
   "execution_count": 8,
   "id": "d0ac388b",
   "metadata": {},
   "outputs": [],
   "source": [
    "new_imgs_amount = 5335\n",
    "new_images, new_indexes = complement_dataset(init_ds_path,\n",
    "                                             new_marks,\n",
    "                                             new_imgs_amount,\n",
    "                                             random_state=0)"
   ]
  },
  {
   "cell_type": "markdown",
   "id": "2d8f7e38",
   "metadata": {},
   "source": [
    "<a id='distance_estimation'></a>\n",
    "## 2. Оценка расстояний"
   ]
  },
  {
   "cell_type": "markdown",
   "id": "3a8306f0",
   "metadata": {},
   "source": [
    "<a id='tl_models_init'></a>\n",
    "**Инициализация Triplet Loss моделей**"
   ]
  },
  {
   "cell_type": "code",
   "execution_count": 16,
   "id": "01c17309",
   "metadata": {},
   "outputs": [],
   "source": [
    "marks_features_len = 128\n",
    "tl_mark_model = TripletLossModel(marks_features_len)\n",
    "\n",
    "weights_marks_p = [\n",
    "    'weights/2. triplet loss model - marks/3. 1154 epochs/conv2Dfeatures_best_var.pt',\n",
    "    'weights/2. triplet loss model - marks/3. 1154 epochs/fully_connect_best_var.pt'\n",
    "]\n",
    "\n",
    "tl_mark_model.split_load(weights_marks_p)"
   ]
  },
  {
   "cell_type": "code",
   "execution_count": 17,
   "id": "1c86a9a9",
   "metadata": {},
   "outputs": [
    {
     "name": "stdout",
     "output_type": "stream",
     "text": [
      "\n",
      "Loading preset weights... Ok.\n",
      "\n",
      "Loading preset weights... Ok.\n"
     ]
    }
   ],
   "source": [
    "IMAGE_SIZE = [128, 128, 1] \n",
    "device = 'cpu'\n",
    "tl_models_old_model = TripletLossModelOld(\n",
    "    conv_simple_features_00,\n",
    "    fully_connect_modul_265,\n",
    "    IMAGE_SIZE, device=device)\n",
    "\n",
    "weights_paths = [\n",
    "    'weights/4. triplet loss model - models/3. trained old/conv2Dfeatures.pt',\n",
    "    'weights/4. triplet loss model - models/3. trained old/fully_connect.pt'    \n",
    "]\n",
    "\n",
    "tl_models_old_model.conv_block.load_state(weights_paths[0],\n",
    "                                          map_location=device)\n",
    "tl_models_old_model.fc_block.load_state(weights_paths[1],\n",
    "                                        map_location=device)"
   ]
  },
  {
   "cell_type": "markdown",
   "id": "4b7d4b92",
   "metadata": {},
   "source": [
    "<a id='additional_classifiers'></a>\n",
    "**Классификаторы ракурса и грузовиков**"
   ]
  },
  {
   "cell_type": "code",
   "execution_count": 18,
   "id": "a2f3ef3c",
   "metadata": {},
   "outputs": [],
   "source": [
    "class_view_model = ClassificationForTLModel(2)\n",
    "weights_p = 'weights/5. view classifier/classif_model_weights_maxAccuracy.pt'\n",
    "class_view_model.load_state(weights_p)\n",
    "\n",
    "class_truck_model = ClassificationForTLModel(2)\n",
    "weights_p = 'weights/6. truck classifier/classif_model_weights_maxAccuracy.pt'\n",
    "class_truck_model.load_state(weights_p)"
   ]
  },
  {
   "cell_type": "markdown",
   "id": "b338ebc2",
   "metadata": {},
   "source": [
    "<a id='feature_base'></a>\n",
    "**База признаковых описаний**"
   ]
  },
  {
   "cell_type": "code",
   "execution_count": 19,
   "id": "7e49a721",
   "metadata": {},
   "outputs": [],
   "source": [
    "total_features_len = 192\n",
    "features_base_joint = FeaturesBase(total_features_len)\n",
    "\n",
    "base_filepaths = [\n",
    "    'csv/train/data_marks_train_joint.csv',\n",
    "    'csv/train/data_models_train_joint.csv',\n",
    "    'csv/train/data_all_train_joint.csv'\n",
    "]\n",
    "\n",
    "features_base_joint.load_base(base_filepaths)"
   ]
  },
  {
   "cell_type": "markdown",
   "id": "a9817f8b",
   "metadata": {},
   "source": [
    "<a id='metric_classifiers'></a>\n",
    "**Метрические классификаторы**"
   ]
  },
  {
   "cell_type": "markdown",
   "id": "5db6a0dd",
   "metadata": {},
   "source": [
    "Метрическая модель:"
   ]
  },
  {
   "cell_type": "code",
   "execution_count": 20,
   "id": "38e5ad67",
   "metadata": {},
   "outputs": [],
   "source": [
    "mah_marks_model = metr_tl_cl.MarksMah(features_base_joint,\n",
    "                                      keys=['View', 'Truck'])\n",
    "mah_marks_model.set_mah()\n",
    "\n",
    "knn_models_model = metr_tl_cl.ModelskNN(features_base_joint)\n",
    "knn_models_model.set_knn()\n",
    "\n",
    "\n",
    "mah_knn_model = metr_tl_cl.MetricClassificationModel(\n",
    "    mah_marks_model,\n",
    "    knn_models_model\n",
    ")"
   ]
  },
  {
   "cell_type": "markdown",
   "id": "f500b26a",
   "metadata": {},
   "source": [
    "<a id='tests'></a>\n",
    "**Тесты**"
   ]
  },
  {
   "cell_type": "code",
   "execution_count": 25,
   "id": "5e50ca1c",
   "metadata": {},
   "outputs": [
    {
     "data": {
      "application/vnd.jupyter.widget-view+json": {
       "model_id": "8e0b6f3e828c45958ca82fc411551e74",
       "version_major": 2,
       "version_minor": 0
      },
      "text/plain": [
       "  0%|          | 0/5335 [00:00<?, ?it/s]"
      ]
     },
     "metadata": {},
     "output_type": "display_data"
    },
    {
     "data": {
      "application/vnd.jupyter.widget-view+json": {
       "model_id": "12189f70a54846668a89b32d00defa41",
       "version_major": 2,
       "version_minor": 0
      },
      "text/plain": [
       "  0%|          | 0/5335 [00:00<?, ?it/s]"
      ]
     },
     "metadata": {},
     "output_type": "display_data"
    },
    {
     "data": {
      "application/vnd.jupyter.widget-view+json": {
       "model_id": "6d5cc4e50a244859acda69a2d69549b8",
       "version_major": 2,
       "version_minor": 0
      },
      "text/plain": [
       "  0%|          | 0/5335 [00:00<?, ?it/s]"
      ]
     },
     "metadata": {},
     "output_type": "display_data"
    },
    {
     "data": {
      "application/vnd.jupyter.widget-view+json": {
       "model_id": "fa697c9c9c654c44b4a07bca46eba832",
       "version_major": 2,
       "version_minor": 0
      },
      "text/plain": [
       "  0%|          | 0/5335 [00:00<?, ?it/s]"
      ]
     },
     "metadata": {},
     "output_type": "display_data"
    }
   ],
   "source": [
    "test_marks_dist, test_models_dist = test_distance(\n",
    "    test_images, tl_mark_model, tl_models_old_model,\n",
    "    mah_knn_model, class_view_model, class_truck_model)"
   ]
  },
  {
   "cell_type": "code",
   "execution_count": 26,
   "id": "770b3379",
   "metadata": {},
   "outputs": [
    {
     "data": {
      "application/vnd.jupyter.widget-view+json": {
       "model_id": "20636f1d4e1c46d389d5b3d9b463c542",
       "version_major": 2,
       "version_minor": 0
      },
      "text/plain": [
       "  0%|          | 0/5335 [00:00<?, ?it/s]"
      ]
     },
     "metadata": {},
     "output_type": "display_data"
    },
    {
     "data": {
      "application/vnd.jupyter.widget-view+json": {
       "model_id": "4c8a4d1dfe0f4c7eb35040244eaf6ffb",
       "version_major": 2,
       "version_minor": 0
      },
      "text/plain": [
       "  0%|          | 0/5335 [00:00<?, ?it/s]"
      ]
     },
     "metadata": {},
     "output_type": "display_data"
    },
    {
     "data": {
      "application/vnd.jupyter.widget-view+json": {
       "model_id": "5712b74384ed4bd38d1e39d0fff1f466",
       "version_major": 2,
       "version_minor": 0
      },
      "text/plain": [
       "  0%|          | 0/5335 [00:00<?, ?it/s]"
      ]
     },
     "metadata": {},
     "output_type": "display_data"
    },
    {
     "data": {
      "application/vnd.jupyter.widget-view+json": {
       "model_id": "618e4762b8dd451bbafc33a07656effd",
       "version_major": 2,
       "version_minor": 0
      },
      "text/plain": [
       "  0%|          | 0/5335 [00:00<?, ?it/s]"
      ]
     },
     "metadata": {},
     "output_type": "display_data"
    }
   ],
   "source": [
    "new_marks_dist, new_models_dist = test_distance(\n",
    "    new_images, tl_mark_model, tl_models_old_model,\n",
    "    mah_knn_model, class_view_model, class_truck_model)"
   ]
  },
  {
   "cell_type": "markdown",
   "id": "afb99bc6",
   "metadata": {},
   "source": [
    "Для оценки различия в расстояниях между новыми и старыми для системы объектами, построим ядерные оценки плотности распределений расстояний."
   ]
  },
  {
   "cell_type": "code",
   "execution_count": 51,
   "id": "a72223e3",
   "metadata": {},
   "outputs": [
    {
     "data": {
      "image/png": "[encoded data removed]",
      "text/plain": [
       "<Figure size 648x432 with 1 Axes>"
      ]
     },
     "metadata": {
      "needs_background": "light"
     },
     "output_type": "display_data"
    },
    {
     "name": "stdout",
     "output_type": "stream",
     "text": [
      "\n",
      "Среднее расстояние для марок:\n",
      "test: 8.31\n",
      "new:  9.276\n",
      "\n",
      "Медианное расстояние для марок:\n",
      "test: 8.215\n",
      "new:  9.107\n"
     ]
    }
   ],
   "source": [
    "plt.figure(figsize=(9,6))\n",
    "sns.kdeplot(test_marks_dist, shade=True, color='green',\n",
    "            label='test_objects', alpha=.7)\n",
    "sns.kdeplot(new_marks_dist, shade=True, color='orange',\n",
    "            label='new_objects', alpha=.7)\n",
    "plt.title('Оценка расстояний для марок', fontsize=15)\n",
    "plt.legend(fontsize=13)\n",
    "plt.show()\n",
    "\n",
    "print('\\nСреднее расстояние для марок:')\n",
    "test_mark_mean_dist = round(test_marks_dist.mean(), 3)\n",
    "print(f'test: {test_mark_mean_dist}')\n",
    "new_mark_mean_dist = round(new_marks_dist.mean(), 3)\n",
    "print(f'new:  {new_mark_mean_dist}')\n",
    "\n",
    "print('\\nМедианное расстояние для марок:')\n",
    "test_mark_median_dist = round(np.median(test_marks_dist), 3)\n",
    "print(f'test: {test_mark_median_dist}')\n",
    "new_mark_median_dist = round(np.median(new_marks_dist), 3)\n",
    "print(f'new:  {new_mark_median_dist}')"
   ]
  },
  {
   "cell_type": "code",
   "execution_count": 67,
   "id": "36f16c3c",
   "metadata": {},
   "outputs": [
    {
     "data": {
      "image/png": "[encoded data removed]",
      "text/plain": [
       "<Figure size 648x432 with 1 Axes>"
      ]
     },
     "metadata": {
      "needs_background": "light"
     },
     "output_type": "display_data"
    },
    {
     "name": "stdout",
     "output_type": "stream",
     "text": [
      "\n",
      "Среднее расстояние для моделей:\n",
      "test: 24.03\n",
      "new:  80.58\n",
      "\n",
      "Медианное расстояние для моделей:\n",
      "test: 24.03\n",
      "new:  44.497\n"
     ]
    }
   ],
   "source": [
    "plt.figure(figsize=(9,6))\n",
    "sns.kdeplot(test_models_dist, shade=True, color='green',\n",
    "            label='test_objects', alpha=.7)\n",
    "sns.kdeplot(new_models_dist, shade=True, color='orange',\n",
    "            label='new_objects', alpha=.7)\n",
    "plt.title('Оценка расстояний для моделей', fontsize=15)\n",
    "plt.legend(fontsize=13)\n",
    "plt.xlim(0, 200)\n",
    "plt.show()\n",
    "\n",
    "print('\\nСреднее расстояние для моделей:')\n",
    "test_models_mean_dist = round(test_models_dist.mean(), 3)\n",
    "print('test: ' + str(test_models_mean_dist))\n",
    "new_models_mean_dist = round(new_models_dist.mean(), 3)\n",
    "print('new:  ' + str(new_models_mean_dist))\n",
    "\n",
    "print('\\nМедианное расстояние для моделей:')\n",
    "test_models_median_dist = round(np.median(test_models_dist), 3)\n",
    "print('test: ' + str(test_models_mean_dist))\n",
    "new_models_median_dist = round(np.median(new_models_dist), 3)\n",
    "print(f'new:  ' + str(new_models_median_dist)) "
   ]
  },
  {
   "cell_type": "markdown",
   "id": "962dcfbb",
   "metadata": {},
   "source": [
    "<a id='conclusion'></a>\n",
    "**Выводы**"
   ]
  },
  {
   "cell_type": "markdown",
   "id": "e86b20b7",
   "metadata": {},
   "source": [
    "Если рассматривать результаты по маркам, то видно, что гистограммы не так далеко друг от друга, как, возможно, хотелось бы. Однако в случае моделей ситуация обстоит хоть и немного, но лучше. В случае моделей новые объекты формируют достаточно тяжелый хвост справа, что сильно смещает как среднее, так и медианное значения от тех же значений по объектам тестовой выборки. Это все же позволяет с некоторой точностью реализовывать систему обнаружения новых объектов используя как и чисто значения по маркам или моделям, так и их взешенные комбинации, переходя ближе к неким дополнительным эвристикам оценки объекта как нового.\n",
    "\n",
    "Также стоит отметить, что при необходимости часть дополнительной работы может быть направлена на повышение уровня устойчивости дескрипторов, тем более идей их развития достаточно много, что в результате может дать убедительное качество."
   ]
  }
 ],
 "metadata": {
  "kernelspec": {
   "display_name": "Python 3 (ipykernel)",
   "language": "python",
   "name": "python3"
  },
  "language_info": {
   "codemirror_mode": {
    "name": "ipython",
    "version": 3
   },
   "file_extension": ".py",
   "mimetype": "text/x-python",
   "name": "python",
   "nbconvert_exporter": "python",
   "pygments_lexer": "ipython3",
   "version": "3.9.7"
  }
 },
 "nbformat": 4,
 "nbformat_minor": 5
}
