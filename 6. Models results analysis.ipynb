{
 "cells": [
  {
   "cell_type": "markdown",
   "id": "1789d7a6",
   "metadata": {},
   "source": [
    "## Содежржание"
   ]
  },
  {
   "cell_type": "markdown",
   "id": "7144c8cd",
   "metadata": {},
   "source": [
    "[Библиотеки](#libraries)\n",
    "\n",
    "[1. Данные](#data)\n",
    "\n",
    "[2. Простые классификаторы](#simple_classifiers)\n",
    "\n",
    "[3. Метрические классификаторы на базе новой модели](#metric_classifiers_new_model)\n",
    "\n",
    "[4. Метрические классификаторы на базе новой модели с разделением базы признаковых описаний](#metric_classifiers_new_model_splited)\n",
    "\n",
    "[5. Метрические классификаторы на базе старой модели](#metric_classifiers_old_model)\n",
    "\n",
    "[6. Метрические классификаторы на базе новой модели с разделением базы признаковых описаний](#metric_classifiers_old_model_splited)\n",
    "\n",
    "[7. Сравнение результатов моделей](#results_comparison)\n",
    "\n",
    "[8. Определение итоговой модели](#final_model)\n",
    "\n",
    "[9. Заключение](#conclusion)"
   ]
  },
  {
   "cell_type": "markdown",
   "id": "83f27045",
   "metadata": {},
   "source": [
    "<a id='libraries'></a>\n",
    "## Библиотеки"
   ]
  },
  {
   "cell_type": "code",
   "execution_count": 1,
   "id": "4fab750a",
   "metadata": {},
   "outputs": [],
   "source": [
    "import os\n",
    "from collections import OrderedDict\n",
    "import torch\n",
    "\n",
    "import dataset.custom_datasets as cust_ds\n",
    "import dataset.default_augmentations as def_augs\n",
    "from tools.feature_base import FeaturesBase\n",
    "from tools.vectorizer import Vectorizer\n",
    "\n",
    "from models.triplet_loss import ClassificationForTLModel\n",
    "from models.triplet_loss import TripletLossModel, TripletLossFeaturesModel\n",
    "from models.triplet_loss_old import TL_005_concatenate, TripletLossModelOld\n",
    "from models.triplet_loss_old import conv_simple_features_00\n",
    "from models.triplet_loss_old import fully_connect_modul_265\n",
    "\n",
    "from models.triplet_loss import ClassificationForTLModel\n",
    "import models.metric_tl_classifier as metr_tl_cl\n",
    "\n",
    "from model_selection.metrics import CustomAccuracy, F1Score\n",
    "from model_test.metric_model_test import test_classification\n",
    "from model_test.metric_model_test import test_classification_splited\n",
    "from model_test.metric_model_test import test_classification_joint"
   ]
  },
  {
   "cell_type": "markdown",
   "id": "c542c77f",
   "metadata": {},
   "source": [
    "<a id='data'></a>\n",
    "## 1. Данные"
   ]
  },
  {
   "cell_type": "markdown",
   "id": "5e37c9bc",
   "metadata": {},
   "source": [
    "**Данные для классификаторов**"
   ]
  },
  {
   "cell_type": "code",
   "execution_count": 2,
   "id": "f3a1336b",
   "metadata": {},
   "outputs": [],
   "source": [
    "datasets_path = 'G:\\\\diplom\\\\project\\\\triplet_loss_project_2_06.04\\\\data'\n",
    "test_ds_path = os.path.join(datasets_path, 'sampled_test')"
   ]
  },
  {
   "cell_type": "code",
   "execution_count": 3,
   "id": "dbbb5e2a",
   "metadata": {},
   "outputs": [],
   "source": [
    "def marks_indx_f(x):\n",
    "    return (x[0],)\n",
    "\n",
    "\n",
    "def models_indx_f(x):\n",
    "    return (x[0], x[1])"
   ]
  },
  {
   "cell_type": "code",
   "execution_count": 4,
   "id": "4734ab99",
   "metadata": {},
   "outputs": [],
   "source": [
    "classif_ds_test_marks = cust_ds.TLClassifyDataset(\n",
    "    test_ds_path, marks_indx_f, crop=False,\n",
    "    transform=def_augs.clTL_test_augs_128\n",
    ")\n",
    "\n",
    "classif_ds_test_models = cust_ds.TLClassifyDataset(\n",
    "    test_ds_path, models_indx_f, crop=False,\n",
    "    transform=def_augs.clTL_train_augs_128\n",
    ")"
   ]
  },
  {
   "cell_type": "markdown",
   "id": "04358d00",
   "metadata": {},
   "source": [
    "**База признаковых описаний**"
   ]
  },
  {
   "cell_type": "code",
   "execution_count": 5,
   "id": "8d6f6723",
   "metadata": {},
   "outputs": [],
   "source": [
    "total_features_len = 196\n",
    "features_base = FeaturesBase(total_features_len)\n",
    "\n",
    "base_filepaths = [\n",
    "    'csv/train/data_marks_train.csv',\n",
    "    'csv/train/data_models_train.csv',\n",
    "    'csv/train/data_all_train.csv'\n",
    "]\n",
    "\n",
    "features_base.load_base(base_filepaths)"
   ]
  },
  {
   "cell_type": "markdown",
   "id": "b55fc20a",
   "metadata": {},
   "source": [
    "<a id='simple_classifiers'></a>\n",
    "## 2. Простые классификаторы"
   ]
  },
  {
   "cell_type": "markdown",
   "id": "86d26cb7",
   "metadata": {},
   "source": [
    "В данной работе простые классификаторы являются baseline моделями. Целью построения более сложных моделей является превышение порога качества классификации, которое показывают простые классификаторы."
   ]
  },
  {
   "cell_type": "markdown",
   "id": "d8a82502",
   "metadata": {},
   "source": [
    "**Марки**"
   ]
  },
  {
   "cell_type": "code",
   "execution_count": 27,
   "id": "699f3ebd",
   "metadata": {},
   "outputs": [],
   "source": [
    "mark_classes_n = len(classif_ds_test_marks.labels_code)\n",
    "class_mark_model = ClassificationForTLModel(mark_classes_n)"
   ]
  },
  {
   "cell_type": "code",
   "execution_count": 28,
   "id": "96238c6b",
   "metadata": {},
   "outputs": [],
   "source": [
    "w_filepaths_marks_load = [\n",
    "    'weights/1. classify for triplet loss - marks/900 epochs/conv2Dfeatures.pt',\n",
    "    'weights/1. classify for triplet loss - marks/900 epochs/fully_connect.pt'\n",
    "]\n",
    "\n",
    "class_mark_model.split_load(w_filepaths_marks_load)"
   ]
  },
  {
   "cell_type": "code",
   "execution_count": 29,
   "id": "47108160",
   "metadata": {},
   "outputs": [
    {
     "data": {
      "application/vnd.jupyter.widget-view+json": {
       "model_id": "93901f3b7c9747989333a5b26db13245",
       "version_major": 2,
       "version_minor": 0
      },
      "text/plain": [
       "  0%|          | 0/167 [00:00<?, ?it/s]"
      ]
     },
     "metadata": {},
     "output_type": "display_data"
    },
    {
     "name": "stdout",
     "output_type": "stream",
     "text": [
      "Accuracy модели классификации марок: 0.569\n"
     ]
    }
   ],
   "source": [
    "acc_class_marks = CustomAccuracy()\n",
    "acc_class_marks_res = acc_class_marks.ds_scope(classif_ds_test_marks,\n",
    "                                               class_mark_model)\n",
    "print(f'Accuracy модели классификации марок: {round(acc_class_marks_res, 3)}')"
   ]
  },
  {
   "cell_type": "code",
   "execution_count": 30,
   "id": "b029f3d9",
   "metadata": {},
   "outputs": [
    {
     "data": {
      "application/vnd.jupyter.widget-view+json": {
       "model_id": "c5cae07963344db3860e91b2cc0c9456",
       "version_major": 2,
       "version_minor": 0
      },
      "text/plain": [
       "  0%|          | 0/167 [00:00<?, ?it/s]"
      ]
     },
     "metadata": {},
     "output_type": "display_data"
    },
    {
     "name": "stdout",
     "output_type": "stream",
     "text": [
      "f1 score модели классификации марок: 0.474\n"
     ]
    }
   ],
   "source": [
    "f1_class_marks = F1Score()\n",
    "f1_class_marks_res = f1_class_marks.ds_scope(classif_ds_test_marks,\n",
    "                                             class_mark_model)\n",
    "print(f'f1 score модели классификации марок: {round(f1_class_marks_res, 3)}')"
   ]
  },
  {
   "cell_type": "markdown",
   "id": "c97de35a",
   "metadata": {},
   "source": [
    "**Модели**"
   ]
  },
  {
   "cell_type": "code",
   "execution_count": 31,
   "id": "7f75ad6e",
   "metadata": {},
   "outputs": [],
   "source": [
    "models_classes_n = len(classif_ds_test_models.labels_code)\n",
    "class_models_model = ClassificationForTLModel(models_classes_n)"
   ]
  },
  {
   "cell_type": "code",
   "execution_count": 32,
   "id": "d918f0d6",
   "metadata": {},
   "outputs": [],
   "source": [
    "w_filepaths_models_load = [\n",
    "    'weights/3. classify for triplet loss - models/1. 1103 epochs/conv2Dfeatures.pt',\n",
    "    'weights/3. classify for triplet loss - models/1. 1103 epochs/fully_connect.pt'\n",
    "]\n",
    "\n",
    "class_models_model.split_load(w_filepaths_models_load)"
   ]
  },
  {
   "cell_type": "code",
   "execution_count": 33,
   "id": "8060b8ac",
   "metadata": {},
   "outputs": [
    {
     "data": {
      "application/vnd.jupyter.widget-view+json": {
       "model_id": "3d0c869fdfb744919d82ce1d57fea925",
       "version_major": 2,
       "version_minor": 0
      },
      "text/plain": [
       "  0%|          | 0/167 [00:00<?, ?it/s]"
      ]
     },
     "metadata": {},
     "output_type": "display_data"
    },
    {
     "name": "stdout",
     "output_type": "stream",
     "text": [
      "Accuracy модели классификации марок: 0.399\n"
     ]
    }
   ],
   "source": [
    "acc_class_models = CustomAccuracy()\n",
    "acc_class_models_res = acc_class_models.ds_scope(classif_ds_test_models,\n",
    "                                                 class_models_model)\n",
    "print(f'Accuracy модели классификации марок: {round(acc_class_models_res, 3)}')"
   ]
  },
  {
   "cell_type": "code",
   "execution_count": 34,
   "id": "ea18de3d",
   "metadata": {},
   "outputs": [
    {
     "data": {
      "application/vnd.jupyter.widget-view+json": {
       "model_id": "73bec0ca19084225b299a909ca01d138",
       "version_major": 2,
       "version_minor": 0
      },
      "text/plain": [
       "  0%|          | 0/167 [00:00<?, ?it/s]"
      ]
     },
     "metadata": {},
     "output_type": "display_data"
    },
    {
     "name": "stdout",
     "output_type": "stream",
     "text": [
      "f1 score модели классификации марок: 0.317\n"
     ]
    }
   ],
   "source": [
    "f1_class_models = F1Score()\n",
    "f1_class_models_res = f1_class_models.ds_scope(classif_ds_test_models,\n",
    "                                               class_models_model)\n",
    "print(f'f1 score модели классификации марок: {round(f1_class_models_res, 3)}')"
   ]
  },
  {
   "cell_type": "markdown",
   "id": "51010ee6",
   "metadata": {},
   "source": [
    "<a id='metric_classifiers_new_model'></a>\n",
    "## 3. Метрические классификаторы на базе новой модели"
   ]
  },
  {
   "cell_type": "markdown",
   "id": "a8d93c9d",
   "metadata": {},
   "source": [
    "Под новой моделью имеется в виду модель, обученная на некропнутых изображениях автомобилей. Под кропом изображения автомобиля подразумевается вырез области автомобиля вокруг марки."
   ]
  },
  {
   "cell_type": "markdown",
   "id": "a0641b45",
   "metadata": {},
   "source": [
    "**Общая Triplet Loss модель**"
   ]
  },
  {
   "cell_type": "code",
   "execution_count": 6,
   "id": "8d29bddf",
   "metadata": {},
   "outputs": [],
   "source": [
    "marks_features_len = 128\n",
    "tl_mark_model = TripletLossModel(marks_features_len)\n",
    "\n",
    "weights_marks_p = [\n",
    "    'weights/2. triplet loss model - marks/3. 1154 epochs/conv2Dfeatures_best_var.pt',\n",
    "    'weights/2. triplet loss model - marks/3. 1154 epochs/fully_connect_best_var.pt'\n",
    "]\n",
    "\n",
    "tl_mark_model.split_load(weights_marks_p)"
   ]
  },
  {
   "cell_type": "code",
   "execution_count": 7,
   "id": "3c754c5e",
   "metadata": {},
   "outputs": [],
   "source": [
    "models_features_len = 64\n",
    "tl_models_model = TripletLossModel(models_features_len)\n",
    "\n",
    "weights_models_p = [\n",
    "    'weights/4. triplet loss model - models/2. 456 epochs/conv2Dfeatures_best_var.pt',\n",
    "    'weights/4. triplet loss model - models/2. 456 epochs/fully_connect_best_var.pt'\n",
    "]\n",
    "\n",
    "tl_models_model.split_load(weights_models_p)"
   ]
  },
  {
   "cell_type": "code",
   "execution_count": 8,
   "id": "2318c415",
   "metadata": {},
   "outputs": [],
   "source": [
    "total_features_len = marks_features_len + models_features_len\n",
    "cat_tl_model = TripletLossFeaturesModel(total_features_len,\n",
    "                                        tl_mark_model, tl_models_model)"
   ]
  },
  {
   "cell_type": "markdown",
   "id": "e714f22b",
   "metadata": {},
   "source": [
    "**Метрические модели классификации**"
   ]
  },
  {
   "cell_type": "markdown",
   "id": "9855cadc",
   "metadata": {},
   "source": [
    "Базовые метрические модели:"
   ]
  },
  {
   "cell_type": "code",
   "execution_count": 21,
   "id": "259a52e3",
   "metadata": {},
   "outputs": [],
   "source": [
    "knn_marks_model = metr_tl_cl.MarkskNN(features_base)\n",
    "knn_marks_model.set_knn()\n",
    "\n",
    "knn_models_model = metr_tl_cl.ModelskNN(features_base)\n",
    "knn_models_model.set_knn()\n",
    "\n",
    "mah_marks_model = metr_tl_cl.MarksMah(features_base)\n",
    "mah_marks_model.set_mah()\n",
    "\n",
    "mah_models_model = metr_tl_cl.ModelsMah(features_base)\n",
    "mah_models_model.set_mah()"
   ]
  },
  {
   "cell_type": "markdown",
   "id": "be36ce37",
   "metadata": {},
   "source": [
    "Комбинации базовых моделей:"
   ]
  },
  {
   "cell_type": "code",
   "execution_count": 22,
   "id": "5d132f68",
   "metadata": {},
   "outputs": [],
   "source": [
    "knn_knn_model = metr_tl_cl.MetricClassificationModel(knn_marks_model,\n",
    "                                                     knn_models_model)\n",
    "\n",
    "knn_mah_model = metr_tl_cl.MetricClassificationModel(knn_marks_model,\n",
    "                                                     mah_models_model)\n",
    "\n",
    "mah_knn_model = metr_tl_cl.MetricClassificationModel(mah_marks_model,\n",
    "                                                     knn_models_model)\n",
    "\n",
    "mah_mah_model = metr_tl_cl.MetricClassificationModel(mah_marks_model,\n",
    "                                                     mah_models_model)"
   ]
  },
  {
   "cell_type": "markdown",
   "id": "ebe45dc7",
   "metadata": {},
   "source": [
    "**Оценка качества**"
   ]
  },
  {
   "cell_type": "code",
   "execution_count": 23,
   "id": "349cb883",
   "metadata": {},
   "outputs": [
    {
     "data": {
      "application/vnd.jupyter.widget-view+json": {
       "model_id": "b3345600898d4347b3f61c01a9a8252e",
       "version_major": 2,
       "version_minor": 0
      },
      "text/plain": [
       "  0%|          | 0/5335 [00:00<?, ?it/s]"
      ]
     },
     "metadata": {},
     "output_type": "display_data"
    },
    {
     "name": "stdout",
     "output_type": "stream",
     "text": [
      "Результаты knn + knn:\n",
      "marks acc: 0.648\n",
      "models acc: 0.063\n",
      "marks f1: 0.653\n",
      "models f1: 0.049\n"
     ]
    }
   ],
   "source": [
    "res0 = test_classification(test_ds_path, cat_tl_model, knn_knn_model)\n",
    "print('Результаты knn + knn:')\n",
    "print(f'marks acc: {round(res0[0], 3)}')\n",
    "print(f'models acc: {round(res0[1], 3)}')\n",
    "print(f'marks f1: {round(res0[2], 3)}')\n",
    "print(f'models f1: {round(res0[3], 3)}')"
   ]
  },
  {
   "cell_type": "code",
   "execution_count": 24,
   "id": "bc32ca3e",
   "metadata": {},
   "outputs": [
    {
     "data": {
      "application/vnd.jupyter.widget-view+json": {
       "model_id": "1d52e2909c1343c98f755e21fd09708b",
       "version_major": 2,
       "version_minor": 0
      },
      "text/plain": [
       "  0%|          | 0/5335 [00:00<?, ?it/s]"
      ]
     },
     "metadata": {},
     "output_type": "display_data"
    },
    {
     "name": "stderr",
     "output_type": "stream",
     "text": [
      "C:\\Users\\ski6a\\Desktop\\Junior ML Contest\\src\\models\\metric_tl_classifier.py:34: RuntimeWarning: invalid value encountered in sqrt\n",
      "  d = np.sqrt(np.einsum('ij,ji->i', a, b))\n"
     ]
    },
    {
     "name": "stdout",
     "output_type": "stream",
     "text": [
      "Результаты knn + mah:\n",
      "marks acc: 0.648\n",
      "models acc: 0.036\n",
      "marks f1: 0.653\n",
      "models f1: 0.014\n"
     ]
    }
   ],
   "source": [
    "res1 = test_classification(test_ds_path, cat_tl_model, knn_mah_model)\n",
    "print('Результаты knn + mah:')\n",
    "print(f'marks acc: {round(res1[0], 3)}')\n",
    "print(f'models acc: {round(res1[1], 3)}')\n",
    "print(f'marks f1: {round(res1[2], 3)}')\n",
    "print(f'models f1: {round(res1[3], 3)}')"
   ]
  },
  {
   "cell_type": "code",
   "execution_count": 25,
   "id": "2c29ec3a",
   "metadata": {},
   "outputs": [
    {
     "data": {
      "application/vnd.jupyter.widget-view+json": {
       "model_id": "9a43d54371714d7d984ef3abe81c6d3a",
       "version_major": 2,
       "version_minor": 0
      },
      "text/plain": [
       "  0%|          | 0/5335 [00:00<?, ?it/s]"
      ]
     },
     "metadata": {},
     "output_type": "display_data"
    },
    {
     "name": "stdout",
     "output_type": "stream",
     "text": [
      "Результаты mah + knn:\n",
      "marks acc: 0.643\n",
      "models acc: 0.064\n",
      "marks f1: 0.656\n",
      "models f1: 0.048\n"
     ]
    }
   ],
   "source": [
    "res2 = test_classification(test_ds_path, cat_tl_model, mah_knn_model)\n",
    "print('Результаты mah + knn:')\n",
    "print(f'marks acc: {round(res2[0], 3)}')\n",
    "print(f'models acc: {round(res2[1], 3)}')\n",
    "print(f'marks f1: {round(res2[2], 3)}')\n",
    "print(f'models f1: {round(res2[3], 3)}')"
   ]
  },
  {
   "cell_type": "code",
   "execution_count": 26,
   "id": "f60eb92a",
   "metadata": {},
   "outputs": [
    {
     "data": {
      "application/vnd.jupyter.widget-view+json": {
       "model_id": "237294bd065d4d52af993996270476cb",
       "version_major": 2,
       "version_minor": 0
      },
      "text/plain": [
       "  0%|          | 0/5335 [00:00<?, ?it/s]"
      ]
     },
     "metadata": {},
     "output_type": "display_data"
    },
    {
     "name": "stderr",
     "output_type": "stream",
     "text": [
      "C:\\Users\\ski6a\\Desktop\\Junior ML Contest\\src\\models\\metric_tl_classifier.py:34: RuntimeWarning: invalid value encountered in sqrt\n",
      "  d = np.sqrt(np.einsum('ij,ji->i', a, b))\n"
     ]
    },
    {
     "name": "stdout",
     "output_type": "stream",
     "text": [
      "Результаты mah + mah:\n",
      "marks acc: 0.643\n",
      "models acc: 0.038\n",
      "marks f1: 0.656\n",
      "models f1: 0.013\n"
     ]
    }
   ],
   "source": [
    "res3 = test_classification(test_ds_path, cat_tl_model, mah_mah_model)\n",
    "print('Результаты mah + mah:')\n",
    "print(f'marks acc: {round(res3[0], 3)}')\n",
    "print(f'models acc: {round(res3[1], 3)}')\n",
    "print(f'marks f1: {round(res3[2], 3)}')\n",
    "print(f'models f1: {round(res3[3], 3)}')"
   ]
  },
  {
   "cell_type": "markdown",
   "id": "5b4b0a03",
   "metadata": {},
   "source": [
    "<a id='metric_classifiers_new_model_splited'></a>\n",
    "## 4. Метрические классификаторы на базе новой модели с разделением базы признаковых описаний"
   ]
  },
  {
   "cell_type": "markdown",
   "id": "d2c49e25",
   "metadata": {},
   "source": [
    "**Классификаторы ракурса и грузовиков**"
   ]
  },
  {
   "cell_type": "code",
   "execution_count": 9,
   "id": "f7df1429",
   "metadata": {},
   "outputs": [],
   "source": [
    "class_view_model = ClassificationForTLModel(2)\n",
    "weights_p = 'weights/5. view classifier/classif_model_weights_maxAccuracy.pt'\n",
    "class_view_model.load_state(weights_p)"
   ]
  },
  {
   "cell_type": "code",
   "execution_count": 10,
   "id": "99f68554",
   "metadata": {},
   "outputs": [],
   "source": [
    "class_truck_model = ClassificationForTLModel(2)\n",
    "weights_p = 'weights/6. truck classifier/classif_model_weights_maxAccuracy.pt'\n",
    "class_truck_model.load_state(weights_p)"
   ]
  },
  {
   "cell_type": "markdown",
   "id": "3db08d9e",
   "metadata": {},
   "source": [
    "**Метрические модели классификации**"
   ]
  },
  {
   "cell_type": "markdown",
   "id": "aaaa172a",
   "metadata": {},
   "source": [
    "Базовые метрические модели:"
   ]
  },
  {
   "cell_type": "code",
   "execution_count": 29,
   "id": "5b94cbf1",
   "metadata": {},
   "outputs": [],
   "source": [
    "knn_marks_model = metr_tl_cl.MarkskNN(features_base, keys=['View', 'Truck'])\n",
    "knn_marks_model.set_knn()\n",
    "\n",
    "knn_models_model = metr_tl_cl.ModelskNN(features_base, keys=['View', 'Truck'])\n",
    "knn_models_model.set_knn()\n",
    "\n",
    "mah_marks_model = metr_tl_cl.MarksMah(features_base, keys=['View', 'Truck'])\n",
    "mah_marks_model.set_mah()\n",
    "\n",
    "mah_models_model = metr_tl_cl.ModelsMah(features_base, keys=['View', 'Truck'])\n",
    "mah_models_model.set_mah()"
   ]
  },
  {
   "cell_type": "markdown",
   "id": "c59c09f8",
   "metadata": {},
   "source": [
    "Комбинации базовых моделей:"
   ]
  },
  {
   "cell_type": "code",
   "execution_count": 30,
   "id": "9e3fcbc8",
   "metadata": {},
   "outputs": [],
   "source": [
    "knn_knn_model = metr_tl_cl.MetricClassificationModel(knn_marks_model,\n",
    "                                                     knn_models_model)\n",
    "\n",
    "knn_mah_model = metr_tl_cl.MetricClassificationModel(knn_marks_model,\n",
    "                                                     mah_models_model)\n",
    "\n",
    "mah_knn_model = metr_tl_cl.MetricClassificationModel(mah_marks_model,\n",
    "                                                     knn_models_model)\n",
    "\n",
    "mah_mah_model = metr_tl_cl.MetricClassificationModel(mah_marks_model,\n",
    "                                                     mah_models_model)"
   ]
  },
  {
   "cell_type": "markdown",
   "id": "765a06b2",
   "metadata": {},
   "source": [
    "**Оценка качества**"
   ]
  },
  {
   "cell_type": "code",
   "execution_count": 31,
   "id": "f36e6f3a",
   "metadata": {},
   "outputs": [
    {
     "data": {
      "application/vnd.jupyter.widget-view+json": {
       "model_id": "5e649277258d4271891a64aa2c057742",
       "version_major": 2,
       "version_minor": 0
      },
      "text/plain": [
       "  0%|          | 0/5335 [00:00<?, ?it/s]"
      ]
     },
     "metadata": {},
     "output_type": "display_data"
    },
    {
     "data": {
      "application/vnd.jupyter.widget-view+json": {
       "model_id": "2de447a4173f4b26a7d7922b8cc2e8cb",
       "version_major": 2,
       "version_minor": 0
      },
      "text/plain": [
       "  0%|          | 0/5335 [00:00<?, ?it/s]"
      ]
     },
     "metadata": {},
     "output_type": "display_data"
    },
    {
     "data": {
      "application/vnd.jupyter.widget-view+json": {
       "model_id": "ecdb3bf1c42c448b9f56de5328729809",
       "version_major": 2,
       "version_minor": 0
      },
      "text/plain": [
       "  0%|          | 0/5335 [00:00<?, ?it/s]"
      ]
     },
     "metadata": {},
     "output_type": "display_data"
    },
    {
     "name": "stdout",
     "output_type": "stream",
     "text": [
      "Результаты knn + knn с разделением:\n",
      "marks acc: 0.551\n",
      "models acc: 0.046\n",
      "marks f1: 0.549\n",
      "models f1: 0.035\n"
     ]
    }
   ],
   "source": [
    "res4 = test_classification_splited(test_ds_path,\n",
    "                                   cat_tl_model, knn_knn_model,\n",
    "                                   class_view_model, class_truck_model)\n",
    "\n",
    "print('Результаты knn + knn с разделением:')\n",
    "print(f'marks acc: {round(res4[0], 3)}')\n",
    "print(f'models acc: {round(res4[1], 3)}')\n",
    "print(f'marks f1: {round(res4[2], 3)}')\n",
    "print(f'models f1: {round(res4[3], 3)}')"
   ]
  },
  {
   "cell_type": "code",
   "execution_count": 32,
   "id": "69a72e04",
   "metadata": {},
   "outputs": [
    {
     "data": {
      "application/vnd.jupyter.widget-view+json": {
       "model_id": "1641015904c74f428db485589e10950a",
       "version_major": 2,
       "version_minor": 0
      },
      "text/plain": [
       "  0%|          | 0/5335 [00:00<?, ?it/s]"
      ]
     },
     "metadata": {},
     "output_type": "display_data"
    },
    {
     "data": {
      "application/vnd.jupyter.widget-view+json": {
       "model_id": "c2b97ac2d59844f0aa6c8d3b361127a0",
       "version_major": 2,
       "version_minor": 0
      },
      "text/plain": [
       "  0%|          | 0/5335 [00:00<?, ?it/s]"
      ]
     },
     "metadata": {},
     "output_type": "display_data"
    },
    {
     "data": {
      "application/vnd.jupyter.widget-view+json": {
       "model_id": "423541cc739e4e758ce885dc7d7c6807",
       "version_major": 2,
       "version_minor": 0
      },
      "text/plain": [
       "  0%|          | 0/5335 [00:00<?, ?it/s]"
      ]
     },
     "metadata": {},
     "output_type": "display_data"
    },
    {
     "name": "stdout",
     "output_type": "stream",
     "text": [
      "Результаты knn + mah с разделением:\n",
      "marks acc: 0.551\n",
      "models acc: 0.004\n",
      "marks f1: 0.549\n",
      "models f1: 0.0\n"
     ]
    }
   ],
   "source": [
    "res5 = test_classification_splited(test_ds_path,\n",
    "                                   cat_tl_model, knn_mah_model,\n",
    "                                   class_view_model, class_truck_model)\n",
    "\n",
    "print('Результаты knn + mah с разделением:')\n",
    "print(f'marks acc: {round(res5[0], 3)}')\n",
    "print(f'models acc: {round(res5[1], 3)}')\n",
    "print(f'marks f1: {round(res5[2], 3)}')\n",
    "print(f'models f1: {round(res5[3], 3)}')"
   ]
  },
  {
   "cell_type": "code",
   "execution_count": 33,
   "id": "fff7424f",
   "metadata": {},
   "outputs": [
    {
     "data": {
      "application/vnd.jupyter.widget-view+json": {
       "model_id": "6a94937a07dd4b63a9363eccc356eb81",
       "version_major": 2,
       "version_minor": 0
      },
      "text/plain": [
       "  0%|          | 0/5335 [00:00<?, ?it/s]"
      ]
     },
     "metadata": {},
     "output_type": "display_data"
    },
    {
     "data": {
      "application/vnd.jupyter.widget-view+json": {
       "model_id": "84588b1e700e4051a99ff7f1714dd796",
       "version_major": 2,
       "version_minor": 0
      },
      "text/plain": [
       "  0%|          | 0/5335 [00:00<?, ?it/s]"
      ]
     },
     "metadata": {},
     "output_type": "display_data"
    },
    {
     "data": {
      "application/vnd.jupyter.widget-view+json": {
       "model_id": "36c3e6d9c19c4e29ab2f79b8ca6e310e",
       "version_major": 2,
       "version_minor": 0
      },
      "text/plain": [
       "  0%|          | 0/5335 [00:00<?, ?it/s]"
      ]
     },
     "metadata": {},
     "output_type": "display_data"
    },
    {
     "name": "stdout",
     "output_type": "stream",
     "text": [
      "Результаты mah + knn с разделением:\n",
      "marks acc: 0.66\n",
      "models acc: 0.059\n",
      "marks f1: 0.671\n",
      "models f1: 0.047\n"
     ]
    }
   ],
   "source": [
    "res6 = test_classification_splited(test_ds_path,\n",
    "                                   cat_tl_model, mah_knn_model,\n",
    "                                   class_view_model, class_truck_model)\n",
    "\n",
    "print('Результаты mah + knn с разделением:')\n",
    "print(f'marks acc: {round(res6[0], 3)}')\n",
    "print(f'models acc: {round(res6[1], 3)}')\n",
    "print(f'marks f1: {round(res6[2], 3)}')\n",
    "print(f'models f1: {round(res6[3], 3)}')"
   ]
  },
  {
   "cell_type": "code",
   "execution_count": 34,
   "id": "eae2e778",
   "metadata": {},
   "outputs": [
    {
     "data": {
      "application/vnd.jupyter.widget-view+json": {
       "model_id": "f3da63b2e4264871986a1bfd62f2ed24",
       "version_major": 2,
       "version_minor": 0
      },
      "text/plain": [
       "  0%|          | 0/5335 [00:00<?, ?it/s]"
      ]
     },
     "metadata": {},
     "output_type": "display_data"
    },
    {
     "data": {
      "application/vnd.jupyter.widget-view+json": {
       "model_id": "498b3d700a114b3291659155c713c351",
       "version_major": 2,
       "version_minor": 0
      },
      "text/plain": [
       "  0%|          | 0/5335 [00:00<?, ?it/s]"
      ]
     },
     "metadata": {},
     "output_type": "display_data"
    },
    {
     "data": {
      "application/vnd.jupyter.widget-view+json": {
       "model_id": "851edf814ab445b8a96cff0acfda6afa",
       "version_major": 2,
       "version_minor": 0
      },
      "text/plain": [
       "  0%|          | 0/5335 [00:00<?, ?it/s]"
      ]
     },
     "metadata": {},
     "output_type": "display_data"
    },
    {
     "name": "stdout",
     "output_type": "stream",
     "text": [
      "Результаты mah + mah с разделением:\n",
      "marks acc: 0.66\n",
      "models acc: 0.004\n",
      "marks f1: 0.671\n",
      "models f1: 0.0\n"
     ]
    }
   ],
   "source": [
    "res7 = test_classification_splited(test_ds_path,\n",
    "                                   cat_tl_model, mah_mah_model,\n",
    "                                   class_view_model, class_truck_model)\n",
    "\n",
    "print('Результаты mah + mah с разделением:')\n",
    "print(f'marks acc: {round(res7[0], 3)}')\n",
    "print(f'models acc: {round(res7[1], 3)}')\n",
    "print(f'marks f1: {round(res7[2], 3)}')\n",
    "print(f'models f1: {round(res7[3], 3)}')"
   ]
  },
  {
   "cell_type": "markdown",
   "id": "8a509d46",
   "metadata": {},
   "source": [
    "<a id='metric_classifiers_old_model'></a>\n",
    "## 5. Метрические классификаторы на базе старой модели"
   ]
  },
  {
   "cell_type": "markdown",
   "id": "5d1b403b",
   "metadata": {},
   "source": [
    "Старая Triplet Loss модель была обучена на кропнутых изображениях автомобилей. Также в ней есть небольшие архитектурные изменения."
   ]
  },
  {
   "cell_type": "markdown",
   "id": "fee744cf",
   "metadata": {},
   "source": [
    "**Инициализация старой модели**"
   ]
  },
  {
   "cell_type": "code",
   "execution_count": 7,
   "id": "f7b91ee5",
   "metadata": {},
   "outputs": [
    {
     "name": "stdout",
     "output_type": "stream",
     "text": [
      "\n",
      "Loading preset weights... Ok.\n",
      "\n",
      "Loading preset weights... Ok.\n",
      "\n",
      "Loading preset weights... Ok.\n",
      "\n",
      "Loading preset weights... Ok.\n"
     ]
    }
   ],
   "source": [
    "IMAGE_SIZE = [128, 128, 1] \n",
    "device = 'cpu'\n",
    "tl_old_cat = TL_005_concatenate(imageSize = IMAGE_SIZE,\n",
    "                                device=device, show=0)\n",
    "\n",
    "weights_paths = [\n",
    "    'weights/2. triplet loss model - marks/2. trained old/conv2Dfeatures.pt',\n",
    "    'weights/2. triplet loss model - marks/2. trained old/fully_connect.pt',\n",
    "    'weights/4. triplet loss model - models/3. trained old/conv2Dfeatures.pt',\n",
    "    'weights/4. triplet loss model - models/3. trained old/fully_connect.pt'    \n",
    "]\n",
    "\n",
    "tl_old_cat.conv_newModel.load_state(weights_paths[0], map_location = device)\n",
    "tl_old_cat.FC_TL_newModel.load_state(weights_paths[1], map_location = device)\n",
    "tl_old_cat.conv_oldModel.load_state(weights_paths[2], map_location = device)     \n",
    "tl_old_cat.FC_TL_oldModel.load_state(weights_paths[3], map_location = device) "
   ]
  },
  {
   "cell_type": "markdown",
   "id": "9c861968",
   "metadata": {},
   "source": [
    "**База признаковых описаний на базе старой TL модели**"
   ]
  },
  {
   "cell_type": "code",
   "execution_count": 8,
   "id": "c1057d77",
   "metadata": {},
   "outputs": [],
   "source": [
    "total_features_len = 192\n",
    "features_base_old = FeaturesBase(total_features_len)\n",
    "\n",
    "base_filepaths = [\n",
    "    'csv/train/data_marks_train_old.csv',\n",
    "    'csv/train/data_models_train_old.csv',\n",
    "    'csv/train/data_all_train_old.csv'\n",
    "]\n",
    "\n",
    "features_base_old.load_base(base_filepaths)"
   ]
  },
  {
   "cell_type": "markdown",
   "id": "ea17dee1",
   "metadata": {},
   "source": [
    "**Метрические модели классификации**"
   ]
  },
  {
   "cell_type": "markdown",
   "id": "59bec969",
   "metadata": {},
   "source": [
    "Базовые метрические модели:"
   ]
  },
  {
   "cell_type": "code",
   "execution_count": 9,
   "id": "b5288d61",
   "metadata": {},
   "outputs": [],
   "source": [
    "knn_marks_model = metr_tl_cl.MarkskNN(features_base_old)\n",
    "knn_marks_model.set_knn()\n",
    "\n",
    "knn_models_model = metr_tl_cl.ModelskNN(features_base_old)\n",
    "knn_models_model.set_knn()\n",
    "\n",
    "mah_marks_model = metr_tl_cl.MarksMah(features_base_old)\n",
    "mah_marks_model.set_mah()\n",
    "\n",
    "mah_models_model = metr_tl_cl.ModelsMah(features_base_old)\n",
    "mah_models_model.set_mah()"
   ]
  },
  {
   "cell_type": "markdown",
   "id": "396eb17d",
   "metadata": {},
   "source": [
    "Комбинации базовых моделей:"
   ]
  },
  {
   "cell_type": "code",
   "execution_count": 10,
   "id": "08311453",
   "metadata": {},
   "outputs": [],
   "source": [
    "knn_knn_model = metr_tl_cl.MetricClassificationModel(knn_marks_model,\n",
    "                                                     knn_models_model)\n",
    "\n",
    "knn_mah_model = metr_tl_cl.MetricClassificationModel(knn_marks_model,\n",
    "                                                     mah_models_model)\n",
    "\n",
    "mah_knn_model = metr_tl_cl.MetricClassificationModel(mah_marks_model,\n",
    "                                                     knn_models_model)\n",
    "\n",
    "mah_mah_model = metr_tl_cl.MetricClassificationModel(mah_marks_model,\n",
    "                                                     mah_models_model)"
   ]
  },
  {
   "cell_type": "markdown",
   "id": "aeb5d10d",
   "metadata": {},
   "source": [
    "**Оценка качества**"
   ]
  },
  {
   "cell_type": "code",
   "execution_count": 11,
   "id": "b6dda476",
   "metadata": {},
   "outputs": [
    {
     "data": {
      "application/vnd.jupyter.widget-view+json": {
       "model_id": "4096a7d7c7564c179d4ca140da53917a",
       "version_major": 2,
       "version_minor": 0
      },
      "text/plain": [
       "  0%|          | 0/5335 [00:00<?, ?it/s]"
      ]
     },
     "metadata": {},
     "output_type": "display_data"
    },
    {
     "name": "stdout",
     "output_type": "stream",
     "text": [
      "Результаты knn + knn:\n",
      "marks acc: 0.485\n",
      "models acc: 0.383\n",
      "marks f1: 0.486\n",
      "models f1: 0.381\n"
     ]
    }
   ],
   "source": [
    "res8 = test_classification(test_ds_path, tl_old_cat, knn_knn_model,\n",
    "                           crop=True)\n",
    "print('Результаты knn + knn:')\n",
    "print(f'marks acc: {round(res8[0], 3)}')\n",
    "print(f'models acc: {round(res8[1], 3)}')\n",
    "print(f'marks f1: {round(res8[2], 3)}')\n",
    "print(f'models f1: {round(res8[3], 3)}')"
   ]
  },
  {
   "cell_type": "code",
   "execution_count": 12,
   "id": "7d8a710e",
   "metadata": {},
   "outputs": [
    {
     "data": {
      "application/vnd.jupyter.widget-view+json": {
       "model_id": "39b4db0eba8248c7950a7943a8ec9350",
       "version_major": 2,
       "version_minor": 0
      },
      "text/plain": [
       "  0%|          | 0/5335 [00:00<?, ?it/s]"
      ]
     },
     "metadata": {},
     "output_type": "display_data"
    },
    {
     "name": "stdout",
     "output_type": "stream",
     "text": [
      "Результаты knn + mah:\n",
      "marks acc: 0.485\n",
      "models acc: 0.304\n",
      "marks f1: 0.486\n",
      "models f1: 0.32\n"
     ]
    }
   ],
   "source": [
    "res9 = test_classification(test_ds_path, tl_old_cat, knn_mah_model,\n",
    "                           crop=True)\n",
    "print('Результаты knn + mah:')\n",
    "print(f'marks acc: {round(res9[0], 3)}')\n",
    "print(f'models acc: {round(res9[1], 3)}')\n",
    "print(f'marks f1: {round(res9[2], 3)}')\n",
    "print(f'models f1: {round(res9[3], 3)}')"
   ]
  },
  {
   "cell_type": "code",
   "execution_count": 13,
   "id": "a0227264",
   "metadata": {},
   "outputs": [
    {
     "data": {
      "application/vnd.jupyter.widget-view+json": {
       "model_id": "525f5e8d8edc41b990fea8a30ae54952",
       "version_major": 2,
       "version_minor": 0
      },
      "text/plain": [
       "  0%|          | 0/5335 [00:00<?, ?it/s]"
      ]
     },
     "metadata": {},
     "output_type": "display_data"
    },
    {
     "name": "stdout",
     "output_type": "stream",
     "text": [
      "Результаты mah + knn:\n",
      "marks acc: 0.4\n",
      "models acc: 0.307\n",
      "marks f1: 0.432\n",
      "models f1: 0.326\n"
     ]
    }
   ],
   "source": [
    "res10 = test_classification(test_ds_path, tl_old_cat, mah_knn_model,\n",
    "                            crop=True)\n",
    "print('Результаты mah + knn:')\n",
    "print(f'marks acc: {round(res10[0], 3)}')\n",
    "print(f'models acc: {round(res10[1], 3)}')\n",
    "print(f'marks f1: {round(res10[2], 3)}')\n",
    "print(f'models f1: {round(res10[3], 3)}')"
   ]
  },
  {
   "cell_type": "code",
   "execution_count": 14,
   "id": "5b8d8219",
   "metadata": {},
   "outputs": [
    {
     "data": {
      "application/vnd.jupyter.widget-view+json": {
       "model_id": "164ce7c787ad41f1a0ea69656ec27259",
       "version_major": 2,
       "version_minor": 0
      },
      "text/plain": [
       "  0%|          | 0/5335 [00:00<?, ?it/s]"
      ]
     },
     "metadata": {},
     "output_type": "display_data"
    },
    {
     "name": "stdout",
     "output_type": "stream",
     "text": [
      "Результаты mah + mah:\n",
      "marks acc: 0.4\n",
      "models acc: 0.243\n",
      "marks f1: 0.432\n",
      "models f1: 0.263\n"
     ]
    }
   ],
   "source": [
    "res11 = test_classification(test_ds_path, tl_old_cat, mah_mah_model,\n",
    "                            crop=True)\n",
    "print('Результаты mah + mah:')\n",
    "print(f'marks acc: {round(res11[0], 3)}')\n",
    "print(f'models acc: {round(res11[1], 3)}')\n",
    "print(f'marks f1: {round(res11[2], 3)}')\n",
    "print(f'models f1: {round(res11[3], 3)}')"
   ]
  },
  {
   "cell_type": "markdown",
   "id": "a74509ad",
   "metadata": {},
   "source": [
    "<a id='metric_classifiers_old_model_splited'></a>\n",
    "## 6. Метрические классификаторы на базе новой модели с разделением базы признаковых описаний"
   ]
  },
  {
   "cell_type": "markdown",
   "id": "2351dd4c",
   "metadata": {},
   "source": [
    "**Метрические модели классификации**"
   ]
  },
  {
   "cell_type": "markdown",
   "id": "f1c8b0b5",
   "metadata": {},
   "source": [
    "Базовые метрические модели:"
   ]
  },
  {
   "cell_type": "code",
   "execution_count": 35,
   "id": "0817d9a1",
   "metadata": {},
   "outputs": [],
   "source": [
    "knn_marks_model = metr_tl_cl.MarkskNN(features_base_old,\n",
    "                                      keys=['View', 'Truck'])\n",
    "knn_marks_model.set_knn()\n",
    "\n",
    "knn_models_model = metr_tl_cl.ModelskNN(features_base_old,\n",
    "                                        keys=['View', 'Truck'])\n",
    "knn_models_model.set_knn()\n",
    "\n",
    "mah_marks_model = metr_tl_cl.MarksMah(features_base_old,\n",
    "                                      keys=['View', 'Truck'])\n",
    "mah_marks_model.set_mah()\n",
    "\n",
    "mah_models_model = metr_tl_cl.ModelsMah(features_base_old,\n",
    "                                        keys=['View', 'Truck'])\n",
    "mah_models_model.set_mah()"
   ]
  },
  {
   "cell_type": "markdown",
   "id": "70720e62",
   "metadata": {},
   "source": [
    "Комбинации базовых моделей:"
   ]
  },
  {
   "cell_type": "code",
   "execution_count": 36,
   "id": "f8e5f8b5",
   "metadata": {},
   "outputs": [],
   "source": [
    "knn_knn_model = metr_tl_cl.MetricClassificationModel(knn_marks_model,\n",
    "                                                     knn_models_model)\n",
    "\n",
    "knn_mah_model = metr_tl_cl.MetricClassificationModel(knn_marks_model,\n",
    "                                                     mah_models_model)\n",
    "\n",
    "mah_knn_model = metr_tl_cl.MetricClassificationModel(mah_marks_model,\n",
    "                                                     knn_models_model)\n",
    "\n",
    "mah_mah_model = metr_tl_cl.MetricClassificationModel(mah_marks_model,\n",
    "                                                     mah_models_model)"
   ]
  },
  {
   "cell_type": "markdown",
   "id": "3bf711a4",
   "metadata": {},
   "source": [
    "**Оценка качества**"
   ]
  },
  {
   "cell_type": "code",
   "execution_count": 37,
   "id": "30c32d50",
   "metadata": {},
   "outputs": [
    {
     "data": {
      "application/vnd.jupyter.widget-view+json": {
       "model_id": "603ec053806140769316d0dbea1b0c72",
       "version_major": 2,
       "version_minor": 0
      },
      "text/plain": [
       "  0%|          | 0/5335 [00:00<?, ?it/s]"
      ]
     },
     "metadata": {},
     "output_type": "display_data"
    },
    {
     "data": {
      "application/vnd.jupyter.widget-view+json": {
       "model_id": "221b221fe5b4408385b6804573e0b4a1",
       "version_major": 2,
       "version_minor": 0
      },
      "text/plain": [
       "  0%|          | 0/5335 [00:00<?, ?it/s]"
      ]
     },
     "metadata": {},
     "output_type": "display_data"
    },
    {
     "data": {
      "application/vnd.jupyter.widget-view+json": {
       "model_id": "563fe56245b44b38b40c0bc30a26a8f8",
       "version_major": 2,
       "version_minor": 0
      },
      "text/plain": [
       "  0%|          | 0/5335 [00:00<?, ?it/s]"
      ]
     },
     "metadata": {},
     "output_type": "display_data"
    },
    {
     "name": "stdout",
     "output_type": "stream",
     "text": [
      "Результаты knn + knn с разделением:\n",
      "marks acc: 0.13\n",
      "models acc: 0.015\n",
      "marks f1: 0.105\n",
      "models f1: 0.011\n"
     ]
    }
   ],
   "source": [
    "res12 = test_classification_splited(test_ds_path,\n",
    "                                    tl_old_cat, knn_knn_model,\n",
    "                                    class_view_model, class_truck_model,\n",
    "                                    crop=True)\n",
    "\n",
    "print('Результаты knn + knn с разделением:')\n",
    "print(f'marks acc: {round(res12[0], 3)}')\n",
    "print(f'models acc: {round(res12[1], 3)}')\n",
    "print(f'marks f1: {round(res12[2], 3)}')\n",
    "print(f'models f1: {round(res12[3], 3)}')"
   ]
  },
  {
   "cell_type": "code",
   "execution_count": 38,
   "id": "f52af2b2",
   "metadata": {},
   "outputs": [
    {
     "data": {
      "application/vnd.jupyter.widget-view+json": {
       "model_id": "4b62af7f10fb4c81828a988be06cb900",
       "version_major": 2,
       "version_minor": 0
      },
      "text/plain": [
       "  0%|          | 0/5335 [00:00<?, ?it/s]"
      ]
     },
     "metadata": {},
     "output_type": "display_data"
    },
    {
     "data": {
      "application/vnd.jupyter.widget-view+json": {
       "model_id": "942b072d6c8541238ffd26ad4d59fe21",
       "version_major": 2,
       "version_minor": 0
      },
      "text/plain": [
       "  0%|          | 0/5335 [00:00<?, ?it/s]"
      ]
     },
     "metadata": {},
     "output_type": "display_data"
    },
    {
     "data": {
      "application/vnd.jupyter.widget-view+json": {
       "model_id": "ef23b5398d8d47bdb63013233ff779ec",
       "version_major": 2,
       "version_minor": 0
      },
      "text/plain": [
       "  0%|          | 0/5335 [00:00<?, ?it/s]"
      ]
     },
     "metadata": {},
     "output_type": "display_data"
    },
    {
     "name": "stdout",
     "output_type": "stream",
     "text": [
      "Результаты knn + mah с разделением:\n",
      "marks acc: 0.13\n",
      "models acc: 0.004\n",
      "marks f1: 0.105\n",
      "models f1: 0.0\n"
     ]
    }
   ],
   "source": [
    "res13 = test_classification_splited(test_ds_path,\n",
    "                                    tl_old_cat, knn_mah_model,\n",
    "                                    class_view_model, class_truck_model,\n",
    "                                    crop=True)\n",
    "\n",
    "print('Результаты knn + mah с разделением:')\n",
    "print(f'marks acc: {round(res13[0], 3)}')\n",
    "print(f'models acc: {round(res13[1], 3)}')\n",
    "print(f'marks f1: {round(res13[2], 3)}')\n",
    "print(f'models f1: {round(res13[3], 3)}')"
   ]
  },
  {
   "cell_type": "code",
   "execution_count": 39,
   "id": "43ab2a4c",
   "metadata": {},
   "outputs": [
    {
     "data": {
      "application/vnd.jupyter.widget-view+json": {
       "model_id": "0aeb3198ef1b420b941df7581fa8599e",
       "version_major": 2,
       "version_minor": 0
      },
      "text/plain": [
       "  0%|          | 0/5335 [00:00<?, ?it/s]"
      ]
     },
     "metadata": {},
     "output_type": "display_data"
    },
    {
     "data": {
      "application/vnd.jupyter.widget-view+json": {
       "model_id": "554809c0647f4bd58d8067f40ef9019a",
       "version_major": 2,
       "version_minor": 0
      },
      "text/plain": [
       "  0%|          | 0/5335 [00:00<?, ?it/s]"
      ]
     },
     "metadata": {},
     "output_type": "display_data"
    },
    {
     "data": {
      "application/vnd.jupyter.widget-view+json": {
       "model_id": "00f1ace3b4dd446f8dff302347ebc34e",
       "version_major": 2,
       "version_minor": 0
      },
      "text/plain": [
       "  0%|          | 0/5335 [00:00<?, ?it/s]"
      ]
     },
     "metadata": {},
     "output_type": "display_data"
    },
    {
     "name": "stdout",
     "output_type": "stream",
     "text": [
      "Результаты mah + knn с разделением:\n",
      "marks acc: 0.425\n",
      "models acc: 0.041\n",
      "marks f1: 0.447\n",
      "models f1: 0.033\n"
     ]
    }
   ],
   "source": [
    "res14 = test_classification_splited(test_ds_path,\n",
    "                                    tl_old_cat, mah_knn_model,\n",
    "                                    class_view_model, class_truck_model,\n",
    "                                    crop=True)\n",
    "\n",
    "print('Результаты mah + knn с разделением:')\n",
    "print(f'marks acc: {round(res14[0], 3)}')\n",
    "print(f'models acc: {round(res14[1], 3)}')\n",
    "print(f'marks f1: {round(res14[2], 3)}')\n",
    "print(f'models f1: {round(res14[3], 3)}')"
   ]
  },
  {
   "cell_type": "code",
   "execution_count": 40,
   "id": "2608ad61",
   "metadata": {},
   "outputs": [
    {
     "data": {
      "application/vnd.jupyter.widget-view+json": {
       "model_id": "3f3c6309861f48318822c34eb1772e66",
       "version_major": 2,
       "version_minor": 0
      },
      "text/plain": [
       "  0%|          | 0/5335 [00:00<?, ?it/s]"
      ]
     },
     "metadata": {},
     "output_type": "display_data"
    },
    {
     "data": {
      "application/vnd.jupyter.widget-view+json": {
       "model_id": "8a77734c6f01471db09fdfc30229ba34",
       "version_major": 2,
       "version_minor": 0
      },
      "text/plain": [
       "  0%|          | 0/5335 [00:00<?, ?it/s]"
      ]
     },
     "metadata": {},
     "output_type": "display_data"
    },
    {
     "data": {
      "application/vnd.jupyter.widget-view+json": {
       "model_id": "dc0d35351009408b924bda852c08d6de",
       "version_major": 2,
       "version_minor": 0
      },
      "text/plain": [
       "  0%|          | 0/5335 [00:00<?, ?it/s]"
      ]
     },
     "metadata": {},
     "output_type": "display_data"
    },
    {
     "name": "stdout",
     "output_type": "stream",
     "text": [
      "Результаты mah + mah с разделением:\n",
      "marks acc: 0.425\n",
      "models acc: 0.004\n",
      "marks f1: 0.447\n",
      "models f1: 0.0\n"
     ]
    }
   ],
   "source": [
    "res15 = test_classification_splited(test_ds_path,\n",
    "                                    tl_old_cat, mah_mah_model,\n",
    "                                    class_view_model, class_truck_model,\n",
    "                                    crop=True)\n",
    "\n",
    "print('Результаты mah + mah с разделением:')\n",
    "print(f'marks acc: {round(res15[0], 3)}')\n",
    "print(f'models acc: {round(res15[1], 3)}')\n",
    "print(f'marks f1: {round(res15[2], 3)}')\n",
    "print(f'models f1: {round(res15[3], 3)}')"
   ]
  },
  {
   "cell_type": "markdown",
   "id": "d4e4dcee",
   "metadata": {},
   "source": [
    "<a id='results_comparison'></a>\n",
    "## 7. Сравнение результатов моделей"
   ]
  },
  {
   "attachments": {
    "metric%20models%20results%202.png": {
     "image/png": "[encoded data removed]"
    }
   },
   "cell_type": "markdown",
   "id": "5eed52f7",
   "metadata": {},
   "source": [
    "![metric%20models%20results%202.png](attachment:metric%20models%20results%202.png)"
   ]
  },
  {
   "cell_type": "markdown",
   "id": "950a09e8",
   "metadata": {},
   "source": [
    "Из оценки метрик качества видно, что с определением марок автомобилей лучше всего справляется модель на основе расстояния Махаланобиса с разделением базы признаковых описаний, построенной на новой Triplet Loss модели. С определением моделей автомобилей лучше всего справляется модель на основе kNN без разделения базы признаков.\n",
    "\n",
    "Так как качество оценки марок прямо влияет на качество оценки моделей, то имеет смысл оценить еще $4$ комбинации моделей, перебрав еще раз все алгоритмы на основе старой Triplet Loss модели."
   ]
  },
  {
   "cell_type": "markdown",
   "id": "64123db9",
   "metadata": {},
   "source": [
    "<a id='final_model'></a>\n",
    "## 8. Определение итоговой модели"
   ]
  },
  {
   "cell_type": "markdown",
   "id": "a8be5678",
   "metadata": {},
   "source": [
    "**Инициализация старой Triplet Loss модели для моделей автомобилей**"
   ]
  },
  {
   "cell_type": "code",
   "execution_count": 29,
   "id": "f3c80455",
   "metadata": {},
   "outputs": [
    {
     "name": "stdout",
     "output_type": "stream",
     "text": [
      "\n",
      "Loading preset weights... Ok.\n",
      "\n",
      "Loading preset weights... Ok.\n"
     ]
    }
   ],
   "source": [
    "IMAGE_SIZE = [128, 128, 1] \n",
    "device = 'cpu'\n",
    "tl_models_old_model = TripletLossModelOld(\n",
    "    conv_simple_features_00,\n",
    "    fully_connect_modul_265,\n",
    "    IMAGE_SIZE, device=device)\n",
    "\n",
    "weights_paths = [\n",
    "    'weights/4. triplet loss model - models/3. trained old/conv2Dfeatures.pt',\n",
    "    'weights/4. triplet loss model - models/3. trained old/fully_connect.pt'    \n",
    "]\n",
    "\n",
    "tl_models_old_model.conv_block.load_state(weights_paths[0],\n",
    "                                          map_location=device)\n",
    "tl_models_old_model.fc_block.load_state(weights_paths[1],\n",
    "                                        map_location=device)"
   ]
  },
  {
   "cell_type": "markdown",
   "id": "e3bf8aa3",
   "metadata": {},
   "source": [
    "**База признаковых описаний**"
   ]
  },
  {
   "cell_type": "code",
   "execution_count": 31,
   "id": "ea08d3be",
   "metadata": {},
   "outputs": [],
   "source": [
    "total_features_len = 192\n",
    "features_base_joint = FeaturesBase(total_features_len)\n",
    "\n",
    "base_filepaths = [\n",
    "    'csv/train/data_marks_train_joint.csv',\n",
    "    'csv/train/data_models_train_joint.csv',\n",
    "    'csv/train/data_all_train_joint.csv'\n",
    "]\n",
    "\n",
    "features_base_joint.load_base(base_filepaths)"
   ]
  },
  {
   "cell_type": "markdown",
   "id": "e46c18c5",
   "metadata": {},
   "source": [
    "**Метрические классификаторы**"
   ]
  },
  {
   "cell_type": "markdown",
   "id": "55140484",
   "metadata": {},
   "source": [
    "Базовые метрические модели:"
   ]
  },
  {
   "cell_type": "code",
   "execution_count": 32,
   "id": "75244d98",
   "metadata": {},
   "outputs": [],
   "source": [
    "mah_marks_model = metr_tl_cl.MarksMah(features_base_joint,\n",
    "                                      keys=['View', 'Truck'])\n",
    "mah_marks_model.set_mah()\n",
    "\n",
    "\n",
    "knn_models_model = metr_tl_cl.ModelskNN(features_base_joint)\n",
    "knn_models_model.set_knn()\n",
    "\n",
    "mah_models_model = metr_tl_cl.ModelsMah(features_base_joint)\n",
    "mah_models_model.set_mah()\n",
    "\n",
    "\n",
    "knn_models_model_splited = metr_tl_cl.ModelskNN(features_base_joint,\n",
    "                                              keys=['View', 'Truck'])\n",
    "knn_models_model_splited.set_knn()\n",
    "\n",
    "mah_models_model_splited = metr_tl_cl.ModelsMah(features_base_joint,\n",
    "                                              keys=['View', 'Truck'])\n",
    "mah_models_model_splited.set_mah()"
   ]
  },
  {
   "cell_type": "markdown",
   "id": "1332350a",
   "metadata": {},
   "source": [
    "Комбинация базовых моделей:"
   ]
  },
  {
   "cell_type": "code",
   "execution_count": 33,
   "id": "1f08638b",
   "metadata": {},
   "outputs": [],
   "source": [
    "mah_knn_model = metr_tl_cl.MetricClassificationModel(\n",
    "    mah_marks_model,\n",
    "    knn_models_model)\n",
    "\n",
    "mah_mah_model = metr_tl_cl.MetricClassificationModel(\n",
    "    mah_marks_model,\n",
    "    mah_models_model)\n",
    "\n",
    "mah_knn_model_spltd = metr_tl_cl.MetricClassificationModel(\n",
    "    mah_marks_model,\n",
    "    knn_models_model_splited)\n",
    "\n",
    "mah_mah_model_spltd = metr_tl_cl.MetricClassificationModel(\n",
    "    mah_marks_model,\n",
    "    mah_models_model_splited)"
   ]
  },
  {
   "cell_type": "markdown",
   "id": "dc3ec25f",
   "metadata": {},
   "source": [
    "**Оценка качества**"
   ]
  },
  {
   "cell_type": "code",
   "execution_count": 34,
   "id": "bf9010a2",
   "metadata": {},
   "outputs": [
    {
     "data": {
      "application/vnd.jupyter.widget-view+json": {
       "model_id": "15af9102afe7477584fa73b8492be426",
       "version_major": 2,
       "version_minor": 0
      },
      "text/plain": [
       "  0%|          | 0/5335 [00:00<?, ?it/s]"
      ]
     },
     "metadata": {},
     "output_type": "display_data"
    },
    {
     "data": {
      "application/vnd.jupyter.widget-view+json": {
       "model_id": "6f0097cd09e94ed9a4408c8cbf578aa4",
       "version_major": 2,
       "version_minor": 0
      },
      "text/plain": [
       "  0%|          | 0/5335 [00:00<?, ?it/s]"
      ]
     },
     "metadata": {},
     "output_type": "display_data"
    },
    {
     "data": {
      "application/vnd.jupyter.widget-view+json": {
       "model_id": "0888a2f15f4f4421bafa497c84490117",
       "version_major": 2,
       "version_minor": 0
      },
      "text/plain": [
       "  0%|          | 0/5335 [00:00<?, ?it/s]"
      ]
     },
     "metadata": {},
     "output_type": "display_data"
    },
    {
     "data": {
      "application/vnd.jupyter.widget-view+json": {
       "model_id": "64a9276338fb479ba0ebd6fee12678ad",
       "version_major": 2,
       "version_minor": 0
      },
      "text/plain": [
       "  0%|          | 0/5335 [00:00<?, ?it/s]"
      ]
     },
     "metadata": {},
     "output_type": "display_data"
    },
    {
     "name": "stdout",
     "output_type": "stream",
     "text": [
      "Результаты mah + old knn:\n",
      "marks acc: 0.66\n",
      "models acc: 0.541\n",
      "marks f1: 0.671\n",
      "models f1: 0.544\n"
     ]
    }
   ],
   "source": [
    "res16 = test_classification_joint(test_ds_path,\n",
    "                                  tl_mark_model, tl_models_old_model,\n",
    "                                  mah_knn_model,\n",
    "                                  class_view_model, class_truck_model)\n",
    "\n",
    "print('Результаты mah + old knn:')\n",
    "print(f'marks acc: {round(res16[0], 3)}')\n",
    "print(f'models acc: {round(res16[1], 3)}')\n",
    "print(f'marks f1: {round(res16[2], 3)}')\n",
    "print(f'models f1: {round(res16[3], 3)}')"
   ]
  },
  {
   "cell_type": "code",
   "execution_count": 35,
   "id": "34fb7922",
   "metadata": {},
   "outputs": [
    {
     "data": {
      "application/vnd.jupyter.widget-view+json": {
       "model_id": "7abc3646642a4cd9aaec4ab6744241a7",
       "version_major": 2,
       "version_minor": 0
      },
      "text/plain": [
       "  0%|          | 0/5335 [00:00<?, ?it/s]"
      ]
     },
     "metadata": {},
     "output_type": "display_data"
    },
    {
     "data": {
      "application/vnd.jupyter.widget-view+json": {
       "model_id": "ac389e16b92c4a19ad5bd288bda06701",
       "version_major": 2,
       "version_minor": 0
      },
      "text/plain": [
       "  0%|          | 0/5335 [00:00<?, ?it/s]"
      ]
     },
     "metadata": {},
     "output_type": "display_data"
    },
    {
     "data": {
      "application/vnd.jupyter.widget-view+json": {
       "model_id": "a225abfcf16247518546f697d049f40c",
       "version_major": 2,
       "version_minor": 0
      },
      "text/plain": [
       "  0%|          | 0/5335 [00:00<?, ?it/s]"
      ]
     },
     "metadata": {},
     "output_type": "display_data"
    },
    {
     "data": {
      "application/vnd.jupyter.widget-view+json": {
       "model_id": "d29765ce932e444988fe2faf9b77734b",
       "version_major": 2,
       "version_minor": 0
      },
      "text/plain": [
       "  0%|          | 0/5335 [00:00<?, ?it/s]"
      ]
     },
     "metadata": {},
     "output_type": "display_data"
    },
    {
     "name": "stdout",
     "output_type": "stream",
     "text": [
      "Результаты mah + old mah:\n",
      "marks acc: 0.66\n",
      "models acc: 0.417\n",
      "marks f1: 0.671\n",
      "models f1: 0.432\n"
     ]
    }
   ],
   "source": [
    "res17 = test_classification_joint(test_ds_path,\n",
    "                                  tl_mark_model, tl_models_old_model,\n",
    "                                  mah_mah_model,\n",
    "                                  class_view_model, class_truck_model)\n",
    "\n",
    "print('Результаты mah + old mah:')\n",
    "print(f'marks acc: {round(res17[0], 3)}')\n",
    "print(f'models acc: {round(res17[1], 3)}')\n",
    "print(f'marks f1: {round(res17[2], 3)}')\n",
    "print(f'models f1: {round(res17[3], 3)}')"
   ]
  },
  {
   "cell_type": "code",
   "execution_count": 36,
   "id": "54044ccf",
   "metadata": {},
   "outputs": [
    {
     "data": {
      "application/vnd.jupyter.widget-view+json": {
       "model_id": "0dfb8acb3ddc46f8bc707b9ac1973ccb",
       "version_major": 2,
       "version_minor": 0
      },
      "text/plain": [
       "  0%|          | 0/5335 [00:00<?, ?it/s]"
      ]
     },
     "metadata": {},
     "output_type": "display_data"
    },
    {
     "data": {
      "application/vnd.jupyter.widget-view+json": {
       "model_id": "6fbf68e298a4432eb4d571d0e20ac582",
       "version_major": 2,
       "version_minor": 0
      },
      "text/plain": [
       "  0%|          | 0/5335 [00:00<?, ?it/s]"
      ]
     },
     "metadata": {},
     "output_type": "display_data"
    },
    {
     "data": {
      "application/vnd.jupyter.widget-view+json": {
       "model_id": "d7fd7d42415643fb93a131db9c23bc8e",
       "version_major": 2,
       "version_minor": 0
      },
      "text/plain": [
       "  0%|          | 0/5335 [00:00<?, ?it/s]"
      ]
     },
     "metadata": {},
     "output_type": "display_data"
    },
    {
     "data": {
      "application/vnd.jupyter.widget-view+json": {
       "model_id": "effbf5d8d86a40bfbb09bfe018811b9b",
       "version_major": 2,
       "version_minor": 0
      },
      "text/plain": [
       "  0%|          | 0/5335 [00:00<?, ?it/s]"
      ]
     },
     "metadata": {},
     "output_type": "display_data"
    },
    {
     "name": "stdout",
     "output_type": "stream",
     "text": [
      "Результаты mah + old knn с разделением:\n",
      "marks acc: 0.66\n",
      "models acc: 0.055\n",
      "marks f1: 0.671\n",
      "models f1: 0.046\n"
     ]
    }
   ],
   "source": [
    "res18 = test_classification_joint(test_ds_path,\n",
    "                                  tl_mark_model, tl_models_old_model,\n",
    "                                  mah_knn_model_spltd,\n",
    "                                  class_view_model, class_truck_model)\n",
    "\n",
    "print('Результаты mah + old knn с разделением:')\n",
    "print(f'marks acc: {round(res18[0], 3)}')\n",
    "print(f'models acc: {round(res18[1], 3)}')\n",
    "print(f'marks f1: {round(res18[2], 3)}')\n",
    "print(f'models f1: {round(res18[3], 3)}')"
   ]
  },
  {
   "cell_type": "code",
   "execution_count": 37,
   "id": "2875a9a2",
   "metadata": {},
   "outputs": [
    {
     "data": {
      "application/vnd.jupyter.widget-view+json": {
       "model_id": "1561e1ea79f44512a6bbbed9b810c90a",
       "version_major": 2,
       "version_minor": 0
      },
      "text/plain": [
       "  0%|          | 0/5335 [00:00<?, ?it/s]"
      ]
     },
     "metadata": {},
     "output_type": "display_data"
    },
    {
     "data": {
      "application/vnd.jupyter.widget-view+json": {
       "model_id": "c81295480bbb4eaeb0bec3e1fe3e0ace",
       "version_major": 2,
       "version_minor": 0
      },
      "text/plain": [
       "  0%|          | 0/5335 [00:00<?, ?it/s]"
      ]
     },
     "metadata": {},
     "output_type": "display_data"
    },
    {
     "data": {
      "application/vnd.jupyter.widget-view+json": {
       "model_id": "691b34e2c7614361a5dc6506fc7f61a2",
       "version_major": 2,
       "version_minor": 0
      },
      "text/plain": [
       "  0%|          | 0/5335 [00:00<?, ?it/s]"
      ]
     },
     "metadata": {},
     "output_type": "display_data"
    },
    {
     "data": {
      "application/vnd.jupyter.widget-view+json": {
       "model_id": "f89688f035f04507a1dda73a5391e73d",
       "version_major": 2,
       "version_minor": 0
      },
      "text/plain": [
       "  0%|          | 0/5335 [00:00<?, ?it/s]"
      ]
     },
     "metadata": {},
     "output_type": "display_data"
    },
    {
     "name": "stdout",
     "output_type": "stream",
     "text": [
      "Результаты mah + old mah с разделением:\n",
      "marks acc: 0.66\n",
      "models acc: 0.004\n",
      "marks f1: 0.671\n",
      "models f1: 0.0\n"
     ]
    }
   ],
   "source": [
    "res19 = test_classification_joint(test_ds_path,\n",
    "                                  tl_mark_model, tl_models_old_model,\n",
    "                                  mah_mah_model_spltd,\n",
    "                                  class_view_model, class_truck_model)\n",
    "\n",
    "print('Результаты mah + old mah с разделением:')\n",
    "print(f'marks acc: {round(res19[0], 3)}')\n",
    "print(f'models acc: {round(res19[1], 3)}')\n",
    "print(f'marks f1: {round(res19[2], 3)}')\n",
    "print(f'models f1: {round(res19[3], 3)}')"
   ]
  },
  {
   "cell_type": "markdown",
   "id": "7e430fe9",
   "metadata": {},
   "source": [
    "Из результатов видно, что комбинация с kNN моделью на основе старой модели дескриптора справляется лучше остальных моделей."
   ]
  },
  {
   "attachments": {
    "metric%20models%20results%203.png": {
     "image/png": "[encoded data removed]"
    }
   },
   "cell_type": "markdown",
   "id": "b8a791b7",
   "metadata": {},
   "source": [
    "![metric%20models%20results%203.png](attachment:metric%20models%20results%203.png)"
   ]
  },
  {
   "cell_type": "markdown",
   "id": "e56b0334",
   "metadata": {},
   "source": [
    "<a id='conclusion'></a>\n",
    "## 9. Заключение"
   ]
  },
  {
   "cell_type": "markdown",
   "id": "19ffbc68",
   "metadata": {},
   "source": [
    "В результате были рассмотрены различные комбинации как моделей дескрипторов, так и метрических моделей классификации в том числе с учетом различающихся баз признаковых описаний. Если сравнивать качество распознавания с простыми классификаторами, то в результате применения более сложных моделей качество распознаваний стало заметно выше."
   ]
  },
  {
   "attachments": {
    "metric%20models%20results%205.png": {
     "image/png": "[encoded data removed]"
    }
   },
   "cell_type": "markdown",
   "id": "8b041940",
   "metadata": {},
   "source": [
    "![metric%20models%20results%205.png](attachment:metric%20models%20results%205.png)"
   ]
  },
  {
   "cell_type": "code",
   "execution_count": null,
   "id": "595da59c",
   "metadata": {},
   "outputs": [],
   "source": []
  }
 ],
 "metadata": {
  "kernelspec": {
   "display_name": "Python 3 (ipykernel)",
   "language": "python",
   "name": "python3"
  },
  "language_info": {
   "codemirror_mode": {
    "name": "ipython",
    "version": 3
   },
   "file_extension": ".py",
   "mimetype": "text/x-python",
   "name": "python",
   "nbconvert_exporter": "python",
   "pygments_lexer": "ipython3",
   "version": "3.9.7"
  }
 },
 "nbformat": 4,
 "nbformat_minor": 5
}
