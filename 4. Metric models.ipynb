{
 "cells": [
  {
   "cell_type": "markdown",
   "id": "5cbed41d",
   "metadata": {},
   "source": [
    "## Содержание"
   ]
  },
  {
   "cell_type": "markdown",
   "id": "329e346a",
   "metadata": {},
   "source": [
    "[Библиотеки](#libraries)\n",
    "\n",
    "[Данные](#data)\n",
    "\n",
    "[1. Общая Triplet Loss модель](#main_tl_model)\n",
    "\n",
    "[2. Построение/загрузка базы признаковых описаний](#feature_base)\n",
    "\n",
    "[3. Метрические модели классификации](#metric_models)\n",
    "* [3.1. Инициализация](#initialization)\n",
    "* [3.2. Тестирование моделей](#models_test)"
   ]
  },
  {
   "cell_type": "markdown",
   "id": "327237dd",
   "metadata": {},
   "source": [
    "<a id='libraries'></a>\n",
    "## Библиотеки"
   ]
  },
  {
   "cell_type": "code",
   "execution_count": 1,
   "id": "623aa35d",
   "metadata": {},
   "outputs": [],
   "source": [
    "import os\n",
    "\n",
    "import dataset.custom_datasets as cust_ds\n",
    "import dataset.default_augmentations as def_augs\n",
    "from models.triplet_loss import TripletLossModel, TripletLossFeaturesModel\n",
    "\n",
    "from tools.vectorizer import Vectorizer\n",
    "from tools.feature_base import FeaturesBase\n",
    "import models.metric_tl_classifier as metr_tl_cl\n",
    "from model_test.metric_model_test import test_classification"
   ]
  },
  {
   "cell_type": "markdown",
   "id": "59b89b22",
   "metadata": {},
   "source": [
    "<a id='data'></a>\n",
    "## Данные"
   ]
  },
  {
   "cell_type": "code",
   "execution_count": 2,
   "id": "c7d1bff9",
   "metadata": {},
   "outputs": [],
   "source": [
    "datasets_path = 'G:\\\\diplom\\\\project\\\\triplet_loss_project_2_06.04\\\\data'\n",
    "train_ds_path = os.path.join(datasets_path, 'sampled_train_marks_models')\n",
    "test_ds_path = os.path.join(datasets_path, 'sampled_test')"
   ]
  },
  {
   "cell_type": "code",
   "execution_count": 3,
   "id": "db8ce01e",
   "metadata": {},
   "outputs": [],
   "source": [
    "def models_indx_f(x):\n",
    "    return (x[0], x[1])"
   ]
  },
  {
   "cell_type": "code",
   "execution_count": 4,
   "id": "8c6e4d22",
   "metadata": {},
   "outputs": [],
   "source": [
    "classif_ds_train = cust_ds.TLClassifyDataset(\n",
    "    train_ds_path, models_indx_f, crop=False,\n",
    "    transform=def_augs.clTL_train_augs_128\n",
    ")\n",
    "\n",
    "classif_ds_test = cust_ds.TLClassifyDataset(\n",
    "    test_ds_path, models_indx_f, crop=False,\n",
    "    transform=def_augs.clTL_test_augs_128\n",
    ")"
   ]
  },
  {
   "cell_type": "markdown",
   "id": "e425f557",
   "metadata": {},
   "source": [
    "<a id='main_tl_model'></a>\n",
    "## 1. Общая Triplet Loss модель"
   ]
  },
  {
   "cell_type": "code",
   "execution_count": 5,
   "id": "d8962d5a",
   "metadata": {},
   "outputs": [],
   "source": [
    "marks_features_len = 128\n",
    "tl_mark_model = TripletLossModel(marks_features_len)\n",
    "\n",
    "weights_marks_p = [\n",
    "    'weights/2. triplet loss model - marks/3. 1154 epochs/conv2Dfeatures_best_var.pt',\n",
    "    'weights/2. triplet loss model - marks/3. 1154 epochs/fully_connect_best_var.pt'\n",
    "]\n",
    "\n",
    "tl_mark_model.split_load(weights_marks_p)"
   ]
  },
  {
   "cell_type": "code",
   "execution_count": 6,
   "id": "066c915a",
   "metadata": {},
   "outputs": [],
   "source": [
    "models_features_len = 64\n",
    "tl_models_model = TripletLossModel(models_features_len)\n",
    "\n",
    "weights_models_p = [\n",
    "    'weights/4. triplet loss model - models/2. 456 epochs/conv2Dfeatures_best_var.pt',\n",
    "    'weights/4. triplet loss model - models/2. 456 epochs/fully_connect_best_var.pt'\n",
    "]\n",
    "\n",
    "tl_models_model.split_load(weights_models_p)"
   ]
  },
  {
   "cell_type": "code",
   "execution_count": 7,
   "id": "eef9543c",
   "metadata": {},
   "outputs": [],
   "source": [
    "total_features_len = marks_features_len + models_features_len\n",
    "cat_tl_model = TripletLossFeaturesModel(total_features_len,\n",
    "                                        tl_mark_model, tl_models_model)"
   ]
  },
  {
   "cell_type": "markdown",
   "id": "1033e20d",
   "metadata": {},
   "source": [
    "<a id='feature_base'></a>\n",
    "## 2. Построение/загрузка базы признаковых описаний"
   ]
  },
  {
   "cell_type": "code",
   "execution_count": 8,
   "id": "aadfbdac",
   "metadata": {},
   "outputs": [],
   "source": [
    "features_base = FeaturesBase(total_features_len)"
   ]
  },
  {
   "cell_type": "code",
   "execution_count": 9,
   "id": "6e840904",
   "metadata": {},
   "outputs": [],
   "source": [
    "# features_base.fill_from_path(train_ds_path, cat_tl_model)"
   ]
  },
  {
   "cell_type": "code",
   "execution_count": 10,
   "id": "7b09737f",
   "metadata": {},
   "outputs": [],
   "source": [
    "base_filepaths = [\n",
    "    'csv/train/data_marks_train.csv',\n",
    "    'csv/train/data_models_train.csv',\n",
    "    'csv/train/data_all_train.csv'\n",
    "]\n",
    "# features_base.save_base(base_filepaths)\n",
    "features_base.load_base(base_filepaths)"
   ]
  },
  {
   "cell_type": "code",
   "execution_count": 11,
   "id": "4a2ebd23",
   "metadata": {},
   "outputs": [
    {
     "data": {
      "text/plain": [
       "20883"
      ]
     },
     "execution_count": 11,
     "metadata": {},
     "output_type": "execute_result"
    }
   ],
   "source": [
    "len(features_base.data_all['ID'])"
   ]
  },
  {
   "cell_type": "markdown",
   "id": "6bbcd53f",
   "metadata": {},
   "source": [
    "<a id='metric_models'></a>\n",
    "## 3. Метрические модели классификации"
   ]
  },
  {
   "cell_type": "markdown",
   "id": "ee7009cc",
   "metadata": {},
   "source": [
    "<a id='initialization'></a>\n",
    "### 3.1. Инициализация"
   ]
  },
  {
   "cell_type": "markdown",
   "id": "4e3e5f6d",
   "metadata": {},
   "source": [
    "Базовые метрические модели:"
   ]
  },
  {
   "cell_type": "code",
   "execution_count": 12,
   "id": "20aba531",
   "metadata": {},
   "outputs": [],
   "source": [
    "knn_marks_model = metr_tl_cl.MarkskNN(features_base)\n",
    "knn_marks_model.set_knn()\n",
    "\n",
    "knn_models_model = metr_tl_cl.ModelskNN(features_base)\n",
    "knn_models_model.set_knn()\n",
    "\n",
    "mah_marks_model = metr_tl_cl.MarksMah(features_base)\n",
    "mah_marks_model.set_mah()\n",
    "\n",
    "mah_models_model = metr_tl_cl.ModelsMah(features_base)\n",
    "mah_models_model.set_mah()"
   ]
  },
  {
   "cell_type": "markdown",
   "id": "80ce57a0",
   "metadata": {},
   "source": [
    "Комбинации базовых моделей:"
   ]
  },
  {
   "cell_type": "code",
   "execution_count": 13,
   "id": "f9c11ee8",
   "metadata": {},
   "outputs": [],
   "source": [
    "knn_knn_model = metr_tl_cl.MetricClassificationModel(knn_marks_model,\n",
    "                                                     knn_models_model)\n",
    "\n",
    "knn_mah_model = metr_tl_cl.MetricClassificationModel(knn_marks_model,\n",
    "                                                     mah_models_model)\n",
    "\n",
    "mah_knn_model = metr_tl_cl.MetricClassificationModel(mah_marks_model,\n",
    "                                                     knn_models_model)\n",
    "\n",
    "mah_mah_model = metr_tl_cl.MetricClassificationModel(mah_marks_model,\n",
    "                                                     mah_models_model)"
   ]
  },
  {
   "cell_type": "markdown",
   "id": "ce9e523b",
   "metadata": {},
   "source": [
    "<a id='models_test'></a>\n",
    "### 3.2. Тестирование моделей"
   ]
  },
  {
   "cell_type": "code",
   "execution_count": 14,
   "id": "20df2734",
   "metadata": {},
   "outputs": [
    {
     "data": {
      "application/vnd.jupyter.widget-view+json": {
       "model_id": "acd69f36a61f477990b8e83014a6920b",
       "version_major": 2,
       "version_minor": 0
      },
      "text/plain": [
       "  0%|          | 0/5335 [00:00<?, ?it/s]"
      ]
     },
     "metadata": {},
     "output_type": "display_data"
    },
    {
     "name": "stdout",
     "output_type": "stream",
     "text": [
      "Результаты knn + knn:\n",
      "marks acc: 0.648\n",
      "models acc: 0.063\n",
      "marks f1: 0.653\n",
      "models f1: 0.049\n"
     ]
    }
   ],
   "source": [
    "res0 = test_classification(test_ds_path, cat_tl_model, knn_knn_model)\n",
    "print('Результаты knn + knn:')\n",
    "print(f'marks acc: {round(res0[0], 3)}')\n",
    "print(f'models acc: {round(res0[1], 3)}')\n",
    "print(f'marks f1: {round(res0[2], 3)}')\n",
    "print(f'models f1: {round(res0[3], 3)}')"
   ]
  },
  {
   "cell_type": "code",
   "execution_count": 15,
   "id": "18675505",
   "metadata": {},
   "outputs": [
    {
     "data": {
      "application/vnd.jupyter.widget-view+json": {
       "model_id": "fb83eaceb87247128d3ecce13b4d2233",
       "version_major": 2,
       "version_minor": 0
      },
      "text/plain": [
       "  0%|          | 0/5335 [00:00<?, ?it/s]"
      ]
     },
     "metadata": {},
     "output_type": "display_data"
    },
    {
     "name": "stderr",
     "output_type": "stream",
     "text": [
      "C:\\Users\\ski6a\\Desktop\\Junior ML Contest\\src\\models\\metric_tl_classifier.py:34: RuntimeWarning: invalid value encountered in sqrt\n",
      "  d = np.sqrt(np.einsum('ij,ji->i', a, b))\n"
     ]
    },
    {
     "name": "stdout",
     "output_type": "stream",
     "text": [
      "Результаты knn + mah:\n",
      "marks acc: 0.648\n",
      "models acc: 0.035\n",
      "marks f1: 0.653\n",
      "models f1: 0.014\n"
     ]
    }
   ],
   "source": [
    "res1 = test_classification(test_ds_path, cat_tl_model, knn_mah_model)\n",
    "print('Результаты knn + mah:')\n",
    "print(f'marks acc: {round(res1[0], 3)}')\n",
    "print(f'models acc: {round(res1[1], 3)}')\n",
    "print(f'marks f1: {round(res1[2], 3)}')\n",
    "print(f'models f1: {round(res1[3], 3)}')"
   ]
  },
  {
   "cell_type": "code",
   "execution_count": 16,
   "id": "5782a8df",
   "metadata": {},
   "outputs": [
    {
     "data": {
      "application/vnd.jupyter.widget-view+json": {
       "model_id": "b863a900abf54515b18b87f7e3a67771",
       "version_major": 2,
       "version_minor": 0
      },
      "text/plain": [
       "  0%|          | 0/5335 [00:00<?, ?it/s]"
      ]
     },
     "metadata": {},
     "output_type": "display_data"
    },
    {
     "name": "stdout",
     "output_type": "stream",
     "text": [
      "Результаты mah + knn:\n",
      "marks acc: 0.644\n",
      "models acc: 0.064\n",
      "marks f1: 0.657\n",
      "models f1: 0.048\n"
     ]
    }
   ],
   "source": [
    "res2 = test_classification(test_ds_path, cat_tl_model, mah_knn_model)\n",
    "print('Результаты mah + knn:')\n",
    "print(f'marks acc: {round(res2[0], 3)}')\n",
    "print(f'models acc: {round(res2[1], 3)}')\n",
    "print(f'marks f1: {round(res2[2], 3)}')\n",
    "print(f'models f1: {round(res2[3], 3)}')"
   ]
  },
  {
   "cell_type": "code",
   "execution_count": 17,
   "id": "9efc1333",
   "metadata": {},
   "outputs": [
    {
     "data": {
      "application/vnd.jupyter.widget-view+json": {
       "model_id": "b9d52049113c4c94afc7184a6959070d",
       "version_major": 2,
       "version_minor": 0
      },
      "text/plain": [
       "  0%|          | 0/5335 [00:00<?, ?it/s]"
      ]
     },
     "metadata": {},
     "output_type": "display_data"
    },
    {
     "name": "stderr",
     "output_type": "stream",
     "text": [
      "C:\\Users\\ski6a\\Desktop\\Junior ML Contest\\src\\models\\metric_tl_classifier.py:34: RuntimeWarning: invalid value encountered in sqrt\n",
      "  d = np.sqrt(np.einsum('ij,ji->i', a, b))\n"
     ]
    },
    {
     "name": "stdout",
     "output_type": "stream",
     "text": [
      "Результаты mah + knn:\n",
      "marks acc: 0.644\n",
      "models acc: 0.037\n",
      "marks f1: 0.657\n",
      "models f1: 0.013\n"
     ]
    }
   ],
   "source": [
    "res3 = test_classification(test_ds_path, cat_tl_model, mah_mah_model)\n",
    "print('Результаты mah + knn:')\n",
    "print(f'marks acc: {round(res3[0], 3)}')\n",
    "print(f'models acc: {round(res3[1], 3)}')\n",
    "print(f'marks f1: {round(res3[2], 3)}')\n",
    "print(f'models f1: {round(res3[3], 3)}')"
   ]
  }
 ],
 "metadata": {
  "kernelspec": {
   "display_name": "Python 3 (ipykernel)",
   "language": "python",
   "name": "python3"
  },
  "language_info": {
   "codemirror_mode": {
    "name": "ipython",
    "version": 3
   },
   "file_extension": ".py",
   "mimetype": "text/x-python",
   "name": "python",
   "nbconvert_exporter": "python",
   "pygments_lexer": "ipython3",
   "version": "3.9.7"
  }
 },
 "nbformat": 4,
 "nbformat_minor": 5
}
